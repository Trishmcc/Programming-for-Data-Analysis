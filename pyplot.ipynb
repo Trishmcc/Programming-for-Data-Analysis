{
 "cells": [
  {
   "cell_type": "markdown",
   "id": "cf6f46b9-b57b-4e64-85c7-38db8f532048",
   "metadata": {},
   "source": [
    "# Overview of the matplotlib.pyplot Python package\n",
    "\n",
    "[Official Documentation](https://matplotlib.org/stable/api/_as_gen/matplotlib.pyplot.html)\n",
    "    \n",
    "***"
   ]
  },
  {
   "cell_type": "code",
   "execution_count": 8,
   "id": "9211def7-cf47-4654-8a24-0b24ab335929",
   "metadata": {},
   "outputs": [],
   "source": [
    "import numpy as np\n",
    "\n",
    "import matplotlib.pyplot as plt"
   ]
  },
  {
   "cell_type": "code",
   "execution_count": null,
   "id": "ab0d7140-88cd-4ea3-94cb-9fd0573a75b8",
   "metadata": {},
   "outputs": [],
   "source": []
  }
 ],
 "metadata": {
  "kernelspec": {
   "display_name": "Python 3",
   "language": "python",
   "name": "python3"
  },
  "language_info": {
   "codemirror_mode": {
    "name": "ipython",
    "version": 3
   },
   "file_extension": ".py",
   "mimetype": "text/x-python",
   "name": "python",
   "nbconvert_exporter": "python",
   "pygments_lexer": "ipython3",
   "version": "3.8.8"
  }
 },
 "nbformat": 4,
 "nbformat_minor": 5
}
