{
 "cells": [
  {
   "cell_type": "markdown",
   "id": "72f6c016-148d-465e-8e85-04ab22c82730",
   "metadata": {},
   "source": [
    "# How to load CAO points information from the CAO website into a pandas data frame\n",
    "\n",
    "[Official Documentation](https://pandas.pydata.org/)\n",
    "\n",
    "***"
   ]
  },
  {
   "cell_type": "code",
   "execution_count": 1,
   "id": "028e8ee6-9ed3-4f40-b8d9-90e39d528110",
   "metadata": {},
   "outputs": [],
   "source": [
    "import numpy as np\n",
    "\n",
    "import matplotlib.pyplot as plt"
   ]
  },
  {
   "cell_type": "code",
   "execution_count": null,
   "id": "6fc7d7e8-8fcc-4351-b381-62b646406966",
   "metadata": {},
   "outputs": [],
   "source": []
  }
 ],
 "metadata": {
  "kernelspec": {
   "display_name": "Python 3",
   "language": "python",
   "name": "python3"
  },
  "language_info": {
   "codemirror_mode": {
    "name": "ipython",
    "version": 3
   },
   "file_extension": ".py",
   "mimetype": "text/x-python",
   "name": "python",
   "nbconvert_exporter": "python",
   "pygments_lexer": "ipython3",
   "version": "3.8.8"
  }
 },
 "nbformat": 4,
 "nbformat_minor": 5
}
