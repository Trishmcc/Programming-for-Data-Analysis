{
 "cells": [
  {
   "cell_type": "markdown",
   "id": "96a34905-6cfa-4f24-bd68-05408dfb486d",
   "metadata": {},
   "source": [
    "# Numpy Random Package Explained\n",
    "\n",
    "***"
   ]
  },
  {
   "cell_type": "markdown",
   "id": "64f7c595-4b4d-447a-aa6c-39051847a6d6",
   "metadata": {},
   "source": [
    "## Introduction"
   ]
  },
  {
   "cell_type": "markdown",
   "id": "c70e21fe-3d32-4831-bfdf-3a8ba72051d8",
   "metadata": {},
   "source": [
    "Numpy.random is a module under Python’s NumPy library. The module consists of a set of functions for generating random numbers. Each function generates random numbers according to different probabilities across different intervals. Numpy.random module includes random data generation functions, permutation and distribution functions, and random generator methods which allow users to select which generator they would like to use. [1] By using the random module, users are able to initiate random arrays with given distribution functions."
   ]
  },
  {
   "cell_type": "markdown",
   "id": "3dc6fdb2-face-49af-af0a-26abe84681ac",
   "metadata": {},
   "source": [
    "## How to install numpy random package"
   ]
  },
  {
   "cell_type": "markdown",
   "id": "f5c46180-1145-4f90-825e-3d868ccdde82",
   "metadata": {},
   "source": [
    "You need Python to run numpy. Numpy can be installed using Python package manager. (pip command)"
   ]
  },
  {
   "cell_type": "markdown",
   "id": "a1e2bd2c-393b-4261-bb7e-cfd1c3789fd4",
   "metadata": {},
   "source": [
    "    pip install numpy"
   ]
  },
  {
   "cell_type": "markdown",
   "id": "86fe1aba-abcb-4175-8b34-046cefb0b946",
   "metadata": {},
   "source": [
    "Numpy random package is already included in the numpy package."
   ]
  },
  {
   "cell_type": "code",
   "execution_count": 1,
   "id": "bbe35cbf-80cd-40c0-8894-a7e9c0befb83",
   "metadata": {},
   "outputs": [],
   "source": [
    "import numpy as np\n",
    "import matplotlib.pyplot as plt"
   ]
  },
  {
   "cell_type": "markdown",
   "id": "a86f4db0-47fb-4f99-a25b-f881d4696e39",
   "metadata": {},
   "source": [
    "## Simple random data and permutation functions"
   ]
  },
  {
   "cell_type": "markdown",
   "id": "b9a102cd-c4d8-494c-ac3d-f3a623a93589",
   "metadata": {},
   "source": [
    "Simple random data can be obtained using the rand function. This rand function takes in dimensions as parameters and returns random sample data numpy array uniformly distributed between 0 and 1, but not including 1. [2]\n"
   ]
  },
  {
   "cell_type": "code",
   "execution_count": 2,
   "id": "4fb5145e-034b-41f1-b6a9-77258a2dd5c6",
   "metadata": {},
   "outputs": [
    {
     "data": {
      "text/plain": [
       "array([[0.98946824, 0.12828423],\n",
       "       [0.60270785, 0.01643715]])"
      ]
     },
     "execution_count": 2,
     "metadata": {},
     "output_type": "execute_result"
    }
   ],
   "source": [
    "np.random.rand(2, 2)"
   ]
  },
  {
   "cell_type": "markdown",
   "id": "62cad9f4-c5b2-4a37-b54b-fc44115b9e39",
   "metadata": {},
   "source": [
    "Another way to obtain random data is to use random_sample function. This function takes dimensions as parameters and returns random float data array.\n",
    "\n",
    "This function uses cotinuous distribution within the given interval to generate random sample data. It uses the following formula to make this generation. [3]\n",
    "\n",
    "    (b - a) * random_sample() + a"
   ]
  },
  {
   "cell_type": "code",
   "execution_count": 3,
   "id": "0912815f-dfce-4489-ab3e-1568754c8fa3",
   "metadata": {},
   "outputs": [
    {
     "data": {
      "text/plain": [
       "0.7996353719302518"
      ]
     },
     "execution_count": 3,
     "metadata": {},
     "output_type": "execute_result"
    }
   ],
   "source": [
    "np.random.random_sample()"
   ]
  },
  {
   "cell_type": "code",
   "execution_count": 4,
   "id": "bb297171-9cc0-47dc-a025-2bc81b979af4",
   "metadata": {},
   "outputs": [
    {
     "data": {
      "text/plain": [
       "float"
      ]
     },
     "execution_count": 4,
     "metadata": {},
     "output_type": "execute_result"
    }
   ],
   "source": [
    "type(np.random.random_sample())"
   ]
  },
  {
   "cell_type": "code",
   "execution_count": 5,
   "id": "82de0f65-689c-44ad-8105-cb8a28b18134",
   "metadata": {},
   "outputs": [
    {
     "data": {
      "text/plain": [
       "array([0.48931353, 0.03950532, 0.92447062, 0.40219607, 0.91697437])"
      ]
     },
     "execution_count": 5,
     "metadata": {},
     "output_type": "execute_result"
    }
   ],
   "source": [
    "np.random.random_sample((5,))"
   ]
  },
  {
   "cell_type": "markdown",
   "id": "676e466a-c7df-4987-a5fa-78f4b1a8d9a5",
   "metadata": {},
   "source": [
    "Random state permutation is another way to create random data. The name of the function is numpy.random.RandomState.permutation. This function takes an array or a value as dimensions to permutate or generate random data. [4]"
   ]
  },
  {
   "cell_type": "code",
   "execution_count": 6,
   "id": "2a317a9e-534b-4d37-a313-abc6a1fc723c",
   "metadata": {},
   "outputs": [
    {
     "data": {
      "text/plain": [
       "array([0, 3, 1, 2, 4])"
      ]
     },
     "execution_count": 6,
     "metadata": {},
     "output_type": "execute_result"
    }
   ],
   "source": [
    "np.random.permutation(5)"
   ]
  },
  {
   "cell_type": "code",
   "execution_count": 7,
   "id": "d1c5d73b-0691-4796-b54c-e1d0cb047e82",
   "metadata": {},
   "outputs": [
    {
     "data": {
      "text/plain": [
       "array([ 5,  4, 17, 23,  4])"
      ]
     },
     "execution_count": 7,
     "metadata": {},
     "output_type": "execute_result"
    }
   ],
   "source": [
    "np.random.permutation([4, 4, 5, 23, 17])"
   ]
  },
  {
   "cell_type": "code",
   "execution_count": 8,
   "id": "449d8585-bbf1-44bd-a911-445eda3621b6",
   "metadata": {},
   "outputs": [
    {
     "data": {
      "text/plain": [
       "array([[2, 3],\n",
       "       [8, 9],\n",
       "       [4, 5],\n",
       "       [0, 1],\n",
       "       [6, 7]])"
      ]
     },
     "execution_count": 8,
     "metadata": {},
     "output_type": "execute_result"
    }
   ],
   "source": [
    "arr = np.arange(10).reshape((5, 2))\n",
    "np.random.permutation(arr)"
   ]
  },
  {
   "cell_type": "markdown",
   "id": "c7c3f2b0-32ba-4626-ae42-7b83de941310",
   "metadata": {},
   "source": [
    "numpy.random.RandomState.permutation changes the order of data in a given array while numpy.random.RandomState.random_sample generates a uniformly distributed random data. They are both similiar in so far as the first one leaves the original permutation as is and returns a shuffled version while the second modifies a sequence.[4]"
   ]
  },
  {
   "cell_type": "markdown",
   "id": "f861e92a-1d90-4566-88f1-aa73676c29f1",
   "metadata": {},
   "source": [
    "## Distributions"
   ]
  },
  {
   "cell_type": "markdown",
   "id": "58782c86-e514-43c3-bfad-0faadcbf9b2c",
   "metadata": {},
   "source": [
    "#### Binominal Distribution\n",
    "\n",
    "    numpy.random.binomial(n, p, size=None)\n",
    "\n",
    "This function uses binomial distribution to select samples. Samples are taken from a bionomial distributuion with given parameters. n means number of trials/atttempts, p represents probability of succcess, and n must be an integer and greater or equal to 0. p must be in the interval of 0 to 1 [5]"
   ]
  },
  {
   "cell_type": "code",
   "execution_count": 9,
   "id": "1799022f-2d76-4ee3-a10e-3ec78b343847",
   "metadata": {},
   "outputs": [
    {
     "name": "stdout",
     "output_type": "stream",
     "text": [
      "[0 0 0 0 0 1 1 1 1 0 0 0 1 0 1 1 0 0 1 1 1 0 0 1 1 0 1 0 0 1 1 1 0 0 1 1 0\n",
      " 0 1 0 1 1 0 1 0 1 1 0 1 0 1 0 1 1 0 1 0 0 1 0 1 0 0 0 1 1 0 1 1 0 1 0 0 1\n",
      " 1 0 0 1 0 0 1 0 0 1 0 1 1 0 1 1 0 0 0 1 0 1 0 1 1 0]\n"
     ]
    },
    {
     "data": {
      "image/png": "[encoded data removed]",
      "text/plain": [
       "<Figure size 432x288 with 1 Axes>"
      ]
     },
     "metadata": {
      "needs_background": "light"
     },
     "output_type": "display_data"
    }
   ],
   "source": [
    "# Example of Coin Tossing Game 1 turns for each game - a 100 games in total. \n",
    "\n",
    "n, p = 1, .5       # number of attempts, probability of success\n",
    "\n",
    "s = np.random.binomial(n, p, 100)  \n",
    "print (s)\n",
    "# Displaying Data\n",
    "plt.plot(s)\n",
    "plt.show()"
   ]
  },
  {
   "cell_type": "markdown",
   "id": "222d0a5d-1a1f-43f1-8d2b-ba2aed019445",
   "metadata": {},
   "source": [
    "###### *This a graph of a simple tossing game where 0 is tails and 1 is heads.*"
   ]
  },
  {
   "cell_type": "markdown",
   "id": "de68bcf8-e0a9-4da0-819a-be09897209ce",
   "metadata": {},
   "source": [
    "#### Chi Square Distribution \n",
    "\n",
    "    numpy.random.chisquare(df, size=None)\n",
    "    \n",
    "This function uses chi-square distribution to select samples. df represents independent random variables where they distributed uniformly with the mean 0 and variance is 1. Then they are squared and summed to obtain chi square.[6]"
   ]
  },
  {
   "cell_type": "code",
   "execution_count": 10,
   "id": "172c0135-c51e-4958-a46f-8d46f8827095",
   "metadata": {},
   "outputs": [
    {
     "name": "stdout",
     "output_type": "stream",
     "text": [
      "[ 3.74519539  9.17414132  5.84002381  3.29923748  5.40390402 12.72537246\n",
      "  5.76428843  2.51994409  5.52710495]\n"
     ]
    },
    {
     "data": {
      "image/png": "[encoded data removed]",
      "text/plain": [
       "<Figure size 432x288 with 1 Axes>"
      ]
     },
     "metadata": {
      "needs_background": "light"
     },
     "output_type": "display_data"
    }
   ],
   "source": [
    "s = np.random.chisquare(6,9)   # chisquare function used to create random array\n",
    "print(s)\n",
    "# Displaying Data\n",
    "plt.plot(s)\n",
    "plt.show()"
   ]
  },
  {
   "cell_type": "markdown",
   "id": "5337f95b-9073-4215-8879-afa456f806ec",
   "metadata": {},
   "source": [
    "###### *This is an example graph of Chi Square Distribution.The data is randomly generated similiar to Binominal Distribution*"
   ]
  },
  {
   "cell_type": "markdown",
   "id": "4cd2a3ed-a87f-4970-a39a-1d5777d8bf2d",
   "metadata": {},
   "source": [
    "#### Normal Distribution \n",
    "\n",
    "    numpy.random.normal\n",
    "    \n",
    "This function uses normal distribution, otherwise known as a bell curve, to select samples. The probability density function of the normal distribution was initially computed by De Moivre and later by both Gauss and Laplaceis. Its commonly referred as the bell curve because of its shape.[7]\n",
    "\n",
    "In nature normal distributions are common. It represents for example the observed distribution of samples altered by by a large number of small random disturbances, each having its own unique distribution.\n",
    "\n",
    "A normal (or Gaussian, Gauss, or Laplace–Gauss) distribution is a type of continuous probability distribution for a real-valued random variable in probability theory. The probability density function uses the following formula.[8]\n",
    "\n",
    "![formula](https://wikimedia.org/api/rest_v1/media/math/render/svg/00cb9b2c9b866378626bcfa45c86a6de2f2b2e40)\n",
    "\n",
    "The parameter mu represents the distribution's mean or expectation, whereas sigma represents its standard deviation. The distribution's variance is v. A normal deviate is a random variable that has a Gaussian distribution and is normally distributed.[7]"
   ]
  },
  {
   "cell_type": "code",
   "execution_count": 11,
   "id": "d2072761-2008-409b-8711-1915c8a58fbd",
   "metadata": {},
   "outputs": [
    {
     "name": "stdout",
     "output_type": "stream",
     "text": [
      "[ 9.8999292   8.88678911  9.64831716 ... 11.95816643  9.64513454\n",
      " 12.58387545]\n"
     ]
    },
    {
     "data": {
      "image/png": "[encoded data removed]",
      "text/plain": [
       "<Figure size 432x288 with 1 Axes>"
      ]
     },
     "metadata": {
      "needs_background": "light"
     },
     "output_type": "display_data"
    }
   ],
   "source": [
    "mu, sigma = 10, 1 # mean and standard deviation\n",
    "s = np.random.normal(mu, sigma, 10000)\n",
    "print(s)\n",
    "# Displaying Data\n",
    "plt.hist(s)\n",
    "plt.show()"
   ]
  },
  {
   "cell_type": "markdown",
   "id": "f3e259b6-ecc3-4f06-93f4-211c12d32090",
   "metadata": {},
   "source": [
    "###### *This is an example graph of Normal Distribution where we can see the data is dispersed from the median and has the shape of a bell curve*"
   ]
  },
  {
   "cell_type": "markdown",
   "id": "c945a2f8-4c7f-4daf-9fdb-c75627aaa069",
   "metadata": {},
   "source": [
    "#### Uniform Distribution\n",
    "\n",
    "    numpy.random.uniform(low=0.0, high=1.0, size=None)\n",
    "\n",
    "This function uses Uniform distribution to select samples.[9]  10 reflects the number of times you can toss a coin. The events have equal chance of happening so that one can expect 10 heads and 0 tails, or 4 tails and 6 heads and so forth. In Uniform Distributions, there is an equally likely chance of everything to happen."
   ]
  },
  {
   "cell_type": "code",
   "execution_count": 12,
   "id": "c225bc0f-9479-4eff-9bbc-2eb2660a9d34",
   "metadata": {},
   "outputs": [
    {
     "name": "stdout",
     "output_type": "stream",
     "text": [
      "[0.79379681 0.44032564 0.8520224  0.23308713 0.92868886 0.79958075\n",
      " 0.50865895 0.23198461 0.32493898 0.61823317]\n"
     ]
    },
    {
     "data": {
      "image/png": "[encoded data removed]",
      "text/plain": [
       "<Figure size 432x288 with 1 Axes>"
      ]
     },
     "metadata": {
      "needs_background": "light"
     },
     "output_type": "display_data"
    }
   ],
   "source": [
    "s = np.random.uniform(3,5,10)\n",
    "print(s)\n",
    "# Displaying Data\n",
    "plt.hist(s)\n",
    "plt.show()"
   ]
  },
  {
   "cell_type": "markdown",
   "id": "ba77a1a1-12df-4ae9-9972-7adc114bebd7",
   "metadata": {},
   "source": [
    "###### *This is an example graph of Uniform Distribution where we have 10 data interval of 3 to 5*"
   ]
  },
  {
   "cell_type": "markdown",
   "id": "7edd0f25-4add-46fe-9f23-e1506ca0869a",
   "metadata": {},
   "source": [
    "#### Weibull Distribution\n",
    "\n",
    "    numpy.random.weibull(a, size=None)\n",
    "\n",
    "This function uses Weibull distribution to select samples. It uses parameters to select samples by using the following formula.[10]\n",
    "\n",
    "    X = (-ln(U))^{1/a}\n",
    "    \n",
    "U represents uniform distribution from 0 to 1"
   ]
  },
  {
   "cell_type": "code",
   "execution_count": 13,
   "id": "c596d824-b6b9-47aa-b23d-75b3dd0a6ac2",
   "metadata": {},
   "outputs": [
    {
     "name": "stdout",
     "output_type": "stream",
     "text": [
      "[0.92914426 0.91078087 0.74371354 1.26849905 0.97535135 0.68962736\n",
      " 0.71481985 0.98861023 1.06015173 0.97184587 1.13408908 0.97773245\n",
      " 0.48146767 1.0761173  0.83252296 0.55871083 0.75720398 1.22499277\n",
      " 1.04305538 0.76194996 0.9453843  0.90406086 1.21055576 0.91280113\n",
      " 1.07087467 1.11562863 0.65510751 0.96796559 0.99905033 1.12300835\n",
      " 0.8659138  0.80635777 0.95916965 1.05370544 1.32448555 1.11017292\n",
      " 1.14951052 0.58371636 1.20026614 1.01942106 0.48550551 1.02261677\n",
      " 0.66458321 1.20998937 0.74662286 0.82114792 0.73055678 1.05419293\n",
      " 0.92847573 1.09456057 0.48973992 0.94485567 1.00463398 1.1455623\n",
      " 0.90006946 0.9039968  0.71043682 0.97338229 1.00253681 0.86191442\n",
      " 0.69765325 0.85226017 1.01108218 1.18054184 0.87830055 0.6243727\n",
      " 0.70786847 0.70849428 0.85125117 0.8827287  0.66246017 0.68153118\n",
      " 0.91296672 0.78447604 0.7377876  0.42344299 0.98680521 1.03317506\n",
      " 1.00092505 0.94796357 1.24710778 1.03439274 1.11482189 1.16562474\n",
      " 0.68405358 1.17303183 1.29967333 1.24764545 0.75102705 0.66227271\n",
      " 0.75046716 1.0796495  0.85901862 0.87681321 0.95436724 1.26048827\n",
      " 1.02993833 0.45554718 0.46388713 0.97004491]\n"
     ]
    },
    {
     "data": {
      "image/png": "[encoded data removed]",
      "text/plain": [
       "<Figure size 432x288 with 1 Axes>"
      ]
     },
     "metadata": {
      "needs_background": "light"
     },
     "output_type": "display_data"
    }
   ],
   "source": [
    "a = 5. # shape\n",
    "s = np.random.weibull(a, 100)\n",
    "print(s)\n",
    "# Displaying Data\n",
    "plt.hist(s)\n",
    "plt.show()"
   ]
  },
  {
   "cell_type": "markdown",
   "id": "f6257ca3-9211-445b-a9e9-454f6210e70f",
   "metadata": {},
   "source": [
    "###### *This is an example graph of Weibull Distribution where the data is randomly generated. Because of its formula X = (-ln(U))^{1/a} where (a = 5). The data is centred to the right. If you change the parameter a the data on the graph will change accordingly, ie if less than 5 the data will be centred more to the left on the graph [11]* "
   ]
  },
  {
   "cell_type": "markdown",
   "id": "03eb8490-3bf6-47fb-86e3-3e998b08a72c",
   "metadata": {},
   "source": [
    "## Seeds"
   ]
  },
  {
   "cell_type": "markdown",
   "id": "1f15a0f5-681f-424c-a658-e6116adec8c2",
   "metadata": {},
   "source": [
    "To make the number generator more random, you need to identify a starting position. This is what you call a 'seed'. The seed must be as random as possible. However,the number generator is still predictable overtime as a pattern. They are not truly random and if you analyze enough of them you will detect a pattern.[12]\n",
    "\n",
    "\n",
    "\n",
    "The majority of pseudo-random number generators (PRNGs) are based on recursive alogrithms that start with a base value or a vector - seed - The Mersenne Twister algorithm is the most commonly used method for pseudo-random number generators.[13]\n",
    "\n",
    "The seeds function is to allow the user to set initial value for pseudo-random number generators so that analysis can be replicated. Users can use the same seed to create the same sequence of randomly generated numbers. Some pseudo-random number generators uses a technique called normally utilising default seed for example using time and hardware inputs to set intitial seed.[13]\n",
    "\n",
    "The arbitrary numerical value in this function initiates the random number generator. Then random numbers are produced  however they arent truely random because they are based on an initial seed and a deterministic process creates them. [14]"
   ]
  },
  {
   "cell_type": "markdown",
   "id": "09cc412a-3d24-42dd-a98e-8fc1f1fcf1ed",
   "metadata": {},
   "source": [
    "np.random.seed()\n",
    "np.random.rand()"
   ]
  },
  {
   "cell_type": "markdown",
   "id": "47336c8b-6d99-4bd9-8046-bfeca5a7b6f9",
   "metadata": {},
   "source": [
    "## How does the new PCG 64 out perform the Mersen Twister"
   ]
  },
  {
   "cell_type": "markdown",
   "id": "5bdbebbe-acb8-4e7a-82da-d530a22cc6b5",
   "metadata": {},
   "source": [
    "A permuted congruential generator (PCG) is a pseudorandom number generation algorithm developed in 2014 that improves the statistical features of a modulo-2n linear congruential generator by using an output permutation function. With compact and fast code and a limited state size, it delivers outstanding statistical performance.[17]\n",
    "\n",
    "![Comparison Table](https://i.ibb.co/HHLvX0P/Capture.png)\n",
    "Table 1 The table shows the comparison of pseudorandom number generators[18]\n",
    "\n",
    "The Mersenne Twister is a pseudorandom number generator (PRNG). It is by far the most widely used general-purpose PRNG.[1] Its name derives from the fact that its period length is chosen to be a Mersenne prime.[19]\n",
    "An advantage of the the Mersenne Twister generates 64-bit floating point random numbers twenty times faster than the RDRAND instruction set, which is implemented in hardware.[19]\n",
    "A disadvantage is poor diffusion: if the beginning state is substantially non-random—particularly if the initial state includes numerous zeros—it can take a long time to start generating output that passes randomness checks. As a result, two instances of the generator with almost identical initial states will frequently output virtually the same sequence for many iterations before diverging.[19]\n",
    "\n",
    "The PCG64 uses bitwise operations while Mersen Twister provides linear 0(n) time algorithm. For example the number 2 is 00000010 as bits. If you shift one number to the left 0000010 it becomes number 4. I used 8 bits to represent it but PCG 64 uses 64 bits to make random operations, which makes it really random. Since this method only changes the bits position on given seed. It uses less computer space. The algoritm is using 2,5kb more than this. In short PCG 64 is faster and uses less space.\n"
   ]
  },
  {
   "cell_type": "markdown",
   "id": "dd5a2e22-da82-443e-9674-64b52c5b366c",
   "metadata": {},
   "source": [
    "## References\n",
    "\n",
    " 1.  https://numpy.org/doc/stable/reference/random/index.html\n",
    " 2.  https://numpy.org/doc/stable/reference/random/generated/numpy.random.rand.html\n",
    " 3.  https://docs.scipy.org/doc/numpy-1.15.0/reference/generated/numpy.random.RandomState.random_sample.html\n",
    " 4.  https://docs.scipy.org/doc/numpy-1.15.0/reference/generated/numpy.random.RandomState.permutation.html\n",
    " 5.  https://docs.scipy.org/doc/numpy-1.15.0/reference/generated/numpy.random.binomial.html\n",
    " 6.  https://numpy.org/doc/stable/reference/random/generated/numpy.random.chisquare.html\n",
    " 7.  https://docs.scipy.org/doc/numpy-1.15.0/reference/generated/numpy.random.normal.html\n",
    " 8.  https://en.wikipedia.org/wiki/Normal_distribution\n",
    " 9.  https://numpy.org/doc/stable/reference/random/generated/numpy.random.uniform.html\n",
    " 10. https://numpy.org/doc/stable/reference/random/generated/numpy.random.weibull.html\n",
    " 11. https://www.geeksforgeeks.org/numpy-random-weibull-in-python/\n",
    " 12. https://stackoverflow.com/questions/1619627/what-does-seeding-mean\n",
    " 13. https://stats.stackexchange.com/questions/354373/what-exactly-is-a-seed-in-a-random-number-generator\n",
    " 14. https://www.youtube.com/watch?v=uial-2girHQ (seed) \n",
    " 15. https://docs.scipy.org/doc/numpy-1.15.1/reference/generated/numpy.random.seed.html\n",
    " 16. https://www.pcg-random.org/index.html\n",
    " 17. https://en.wikipedia.org/wiki/Permuted_congruential_generator\n",
    " 18. https://www.pcg-random.org/index.html#id2\n",
    " 19. https://en.wikipedia.org/wiki/Mersenne_Twister\n",
    " 16. https://docs.scipy.org/doc/numpy-1.15.0/reference/generated/numpy.random.RandomState.rand.html\n",
    "  \n",
    "\n"
   ]
  },
  {
   "cell_type": "code",
   "execution_count": null,
   "id": "6e48e581-af3f-4385-b7e7-e4348aaa2aa1",
   "metadata": {},
   "outputs": [],
   "source": []
  }
 ],
 "metadata": {
  "kernelspec": {
   "display_name": "Python 3",
   "language": "python",
   "name": "python3"
  },
  "language_info": {
   "codemirror_mode": {
    "name": "ipython",
    "version": 3
   },
   "file_extension": ".py",
   "mimetype": "text/x-python",
   "name": "python",
   "nbconvert_exporter": "python",
   "pygments_lexer": "ipython3",
   "version": "3.8.8"
  }
 },
 "nbformat": 4,
 "nbformat_minor": 5
}
