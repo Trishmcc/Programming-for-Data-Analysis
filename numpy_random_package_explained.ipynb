{
 "cells": [
  {
   "cell_type": "markdown",
   "id": "96a34905-6cfa-4f24-bd68-05408dfb486d",
   "metadata": {},
   "source": [
    "# Numpy Random Package Explained\n",
    "\n",
    "***"
   ]
  },
  {
   "cell_type": "markdown",
   "id": "64f7c595-4b4d-447a-aa6c-39051847a6d6",
   "metadata": {},
   "source": [
    "## Introduction"
   ]
  },
  {
   "cell_type": "markdown",
   "id": "c70e21fe-3d32-4831-bfdf-3a8ba72051d8",
   "metadata": {},
   "source": [
    "Numpy.random is a module under Python’s NumPy library. The module consists of a set of functions for generating random numbers. Each function generates random numbers according to different probabilities across different intervals. Numpy.random module includes random data generation functions, permutation and distribution functions, and random generator methods which allow users to select which generator they would like to use. [1] By using the random module, users are able to initiate random arrays with given distribution functions."
   ]
  },
  {
   "cell_type": "markdown",
   "id": "3dc6fdb2-face-49af-af0a-26abe84681ac",
   "metadata": {},
   "source": [
    "## How to install numpy random package"
   ]
  },
  {
   "cell_type": "markdown",
   "id": "f5c46180-1145-4f90-825e-3d868ccdde82",
   "metadata": {},
   "source": [
    "You need Python to run numpy. Numpy can be installed using Python package manager. (pip command)"
   ]
  },
  {
   "cell_type": "markdown",
   "id": "a1e2bd2c-393b-4261-bb7e-cfd1c3789fd4",
   "metadata": {},
   "source": [
    "    pip install numpy"
   ]
  },
  {
   "cell_type": "markdown",
   "id": "86fe1aba-abcb-4175-8b34-046cefb0b946",
   "metadata": {},
   "source": [
    "Numpy random package is already included in the numpy package."
   ]
  },
  {
   "cell_type": "code",
   "execution_count": 1,
   "id": "bbe35cbf-80cd-40c0-8894-a7e9c0befb83",
   "metadata": {},
   "outputs": [],
   "source": [
    "import numpy as np\n",
    "import matplotlib.pyplot as plt"
   ]
  },
  {
   "cell_type": "markdown",
   "id": "a86f4db0-47fb-4f99-a25b-f881d4696e39",
   "metadata": {},
   "source": [
    "## Simple random data and permutation functions"
   ]
  },
  {
   "cell_type": "markdown",
   "id": "b9a102cd-c4d8-494c-ac3d-f3a623a93589",
   "metadata": {},
   "source": [
    "Simple random data can be obtained using the rand function. This rand function takes in dimensions as parameters and returns random sample data numpy array uniformly distributed between 0 and 1, but not including 1. [2]\n"
   ]
  },
  {
   "cell_type": "code",
   "execution_count": 2,
   "id": "4fb5145e-034b-41f1-b6a9-77258a2dd5c6",
   "metadata": {},
   "outputs": [
    {
     "data": {
      "text/plain": [
       "array([[0.1596681 , 0.51657475],\n",
       "       [0.07678041, 0.30161818]])"
      ]
     },
     "execution_count": 2,
     "metadata": {},
     "output_type": "execute_result"
    }
   ],
   "source": [
    "np.random.rand(2, 2)"
   ]
  },
  {
   "cell_type": "markdown",
   "id": "62cad9f4-c5b2-4a37-b54b-fc44115b9e39",
   "metadata": {},
   "source": [
    "Another way to obtain random data is to use random_sample function. This function takes dimensions as parameters and returns random float data array.\n",
    "\n",
    "This function uses cotinuous distribution within the given interval to generate random sample data. It uses the following formula to make this generation. [3]\n",
    "\n",
    "    (b - a) * random_sample() + a"
   ]
  },
  {
   "cell_type": "code",
   "execution_count": 3,
   "id": "0912815f-dfce-4489-ab3e-1568754c8fa3",
   "metadata": {},
   "outputs": [
    {
     "data": {
      "text/plain": [
       "0.01197533765403469"
      ]
     },
     "execution_count": 3,
     "metadata": {},
     "output_type": "execute_result"
    }
   ],
   "source": [
    "np.random.random_sample()"
   ]
  },
  {
   "cell_type": "code",
   "execution_count": 4,
   "id": "bb297171-9cc0-47dc-a025-2bc81b979af4",
   "metadata": {},
   "outputs": [
    {
     "data": {
      "text/plain": [
       "float"
      ]
     },
     "execution_count": 4,
     "metadata": {},
     "output_type": "execute_result"
    }
   ],
   "source": [
    "type(np.random.random_sample())"
   ]
  },
  {
   "cell_type": "code",
   "execution_count": 5,
   "id": "82de0f65-689c-44ad-8105-cb8a28b18134",
   "metadata": {},
   "outputs": [
    {
     "data": {
      "text/plain": [
       "array([0.16950458, 0.77975397, 0.6052551 , 0.07695312, 0.53711212])"
      ]
     },
     "execution_count": 5,
     "metadata": {},
     "output_type": "execute_result"
    }
   ],
   "source": [
    "np.random.random_sample((5,))"
   ]
  },
  {
   "cell_type": "markdown",
   "id": "676e466a-c7df-4987-a5fa-78f4b1a8d9a5",
   "metadata": {},
   "source": [
    "Random state permutation is another way to create random data. The name of the function is numpy.random.RandomState.permutation. This function takes an array or a value as dimensions to permutate or generate random data. [4]"
   ]
  },
  {
   "cell_type": "code",
   "execution_count": 6,
   "id": "2a317a9e-534b-4d37-a313-abc6a1fc723c",
   "metadata": {},
   "outputs": [
    {
     "data": {
      "text/plain": [
       "array([2, 4, 0, 1, 3])"
      ]
     },
     "execution_count": 6,
     "metadata": {},
     "output_type": "execute_result"
    }
   ],
   "source": [
    "np.random.permutation(5)"
   ]
  },
  {
   "cell_type": "code",
   "execution_count": 7,
   "id": "d1c5d73b-0691-4796-b54c-e1d0cb047e82",
   "metadata": {},
   "outputs": [
    {
     "data": {
      "text/plain": [
       "array([17,  4, 23,  4,  5])"
      ]
     },
     "execution_count": 7,
     "metadata": {},
     "output_type": "execute_result"
    }
   ],
   "source": [
    "np.random.permutation([4, 4, 5, 23, 17])"
   ]
  },
  {
   "cell_type": "code",
   "execution_count": 8,
   "id": "449d8585-bbf1-44bd-a911-445eda3621b6",
   "metadata": {},
   "outputs": [
    {
     "data": {
      "text/plain": [
       "array([[2, 3],\n",
       "       [8, 9],\n",
       "       [4, 5],\n",
       "       [0, 1],\n",
       "       [6, 7]])"
      ]
     },
     "execution_count": 8,
     "metadata": {},
     "output_type": "execute_result"
    }
   ],
   "source": [
    "arr = np.arange(10).reshape((5, 2))\n",
    "np.random.permutation(arr)"
   ]
  },
  {
   "cell_type": "markdown",
   "id": "c7c3f2b0-32ba-4626-ae42-7b83de941310",
   "metadata": {},
   "source": [
    "numpy.random.RandomState.permutation changes the order of data in a given array while numpy.random.RandomState.random_sample generates a uniformly distributed random data. They are both similiar in so far as the first one leaves the original permutation as is and returns a shuffled version while the second modifies a sequence.[4]"
   ]
  },
  {
   "cell_type": "markdown",
   "id": "f861e92a-1d90-4566-88f1-aa73676c29f1",
   "metadata": {},
   "source": [
    "## Distributions"
   ]
  },
  {
   "cell_type": "markdown",
   "id": "58782c86-e514-43c3-bfad-0faadcbf9b2c",
   "metadata": {},
   "source": [
    "#### Binominal Distribution\n",
    "\n",
    "The discrete probability distribution of the number of successes in a series of n independent experiments, each asking a yes–no question and each with its own Boolean-valued conclusion, is the binomial distribution with parameters n and p.[5]\n",
    "\n",
    "    numpy.random.binomial(n, p, size=None)\n",
    "\n",
    "This function uses binomial distribution to select samples. Samples are taken from a bionomial distributuion with given parameters. n means number of trials/atttempts, p represents probability of succcess, and n must be an integer and greater or equal to 0. p must be in the interval of 0 to 1 [6]"
   ]
  },
  {
   "cell_type": "code",
   "execution_count": 9,
   "id": "1799022f-2d76-4ee3-a10e-3ec78b343847",
   "metadata": {},
   "outputs": [
    {
     "name": "stdout",
     "output_type": "stream",
     "text": [
      "[1 1 0 1 0 1 0 1 1 1 0 0 1 0 1 1 1 0 0 0 0 0 1 0 0 0 0 0 1 1 0 1 1 0 0 1 1\n",
      " 1 0 0 0 1 0 0 1 0 0 1 0 0 0 1 0 0 0 0 0 1 1 1 1 0 1 1 0 1 1 1 0 1 0 1 1 1\n",
      " 0 0 0 0 1 1 0 1 1 1 1 0 0 0 0 0 1 0 0 1 0 1 1 1 0 1]\n"
     ]
    },
    {
     "data": {
      "image/png": "[encoded data removed]",
      "text/plain": [
       "<Figure size 432x288 with 1 Axes>"
      ]
     },
     "metadata": {
      "needs_background": "light"
     },
     "output_type": "display_data"
    }
   ],
   "source": [
    "# Example of Coin Tossing Game 1 turns for each game - a 100 games in total.[7]\n",
    "\n",
    "n, p = 1, .5       # number of attempts, probability of success\n",
    "\n",
    "s = np.random.binomial(n, p, 100)  \n",
    "print (s)\n",
    "# Displaying Data\n",
    "plt.plot(s)\n",
    "plt.show()"
   ]
  },
  {
   "cell_type": "markdown",
   "id": "222d0a5d-1a1f-43f1-8d2b-ba2aed019445",
   "metadata": {},
   "source": [
    "###### *This a graph of a simple tossing game where 0 is tails and 1 is heads.*"
   ]
  },
  {
   "cell_type": "markdown",
   "id": "de68bcf8-e0a9-4da0-819a-be09897209ce",
   "metadata": {},
   "source": [
    "#### Chi Square Distribution \n",
    "\n",
    "A hypothesis testing method is the Chi-square test. Checking if observed frequencies in one or more categories match expected frequencies is one of two frequent Chi-square tests.[8] The Chi-square test is used to determine whether your data is as expected. The test's core premise is to compare the observed values in your data to the expected values that you would see if the null hypothesis is true.[9]If you square one value close to 0 it becomes a smaller value, a lower probability.You need to sample more independently normally distributed variables to have a less likely chance of your values being close to 0  (REAL WORLD EXAMPLE ?)\n",
    "\n",
    "\n",
    "    numpy.random.chisquare(df, size=None)\n",
    "    \n",
    "This function uses chi-square distribution to select samples. df represents independent random variables where they distributed uniformly with the mean 0 and variance is 1. Then they are squared and summed to obtain chi square.[10]"
   ]
  },
  {
   "cell_type": "code",
   "execution_count": 10,
   "id": "172c0135-c51e-4958-a46f-8d46f8827095",
   "metadata": {},
   "outputs": [
    {
     "name": "stdout",
     "output_type": "stream",
     "text": [
      "[13.83256604 11.62665868  2.92194583  2.15192969  3.4926296   2.94958487\n",
      "  1.32842994  3.4266472   2.65304921]\n"
     ]
    },
    {
     "data": {
      "image/png": "[encoded data removed]",
      "text/plain": [
       "<Figure size 432x288 with 1 Axes>"
      ]
     },
     "metadata": {
      "needs_background": "light"
     },
     "output_type": "display_data"
    }
   ],
   "source": [
    "s = np.random.chisquare(6,9)   # chisquare function used to create random array\n",
    "print(s)\n",
    "# Displaying Data\n",
    "plt.plot(s)\n",
    "plt.show()"
   ]
  },
  {
   "cell_type": "markdown",
   "id": "5337f95b-9073-4215-8879-afa456f806ec",
   "metadata": {},
   "source": [
    "###### *This is an example graph of Chi Square Distribution.The data is randomly generated similiar to Binominal Distribution*"
   ]
  },
  {
   "cell_type": "markdown",
   "id": "4cd2a3ed-a87f-4970-a39a-1d5777d8bf2d",
   "metadata": {},
   "source": [
    "#### Normal Distribution \n",
    "\n",
    "    numpy.random.normal\n",
    "    \n",
    "This function uses normal distribution, otherwise known as a bell curve, to select samples. The probability density function of the normal distribution was initially computed by De Moivre and later by both Gauss and Laplaceis. Its commonly referred as the bell curve because of its shape.[11]\n",
    "\n",
    "In nature normal distributions are common. It represents for example the observed distribution of samples altered by by a large number of small random disturbances, each having its own unique distribution.\n",
    "\n",
    "A normal (or Gaussian, Gauss, or Laplace–Gauss) distribution is a type of continuous probability distribution for a real-valued random variable in probability theory. The probability density function uses the following formula.[11]\n",
    "\n",
    "![formula](https://wikimedia.org/api/rest_v1/media/math/render/svg/00cb9b2c9b866378626bcfa45c86a6de2f2b2e40)\n",
    "\n",
    "The parameter mu represents the distribution's mean or expectation, whereas sigma represents its standard deviation. The distribution's variance is v. A normal deviate is a random variable that has a Gaussian distribution and is normally distributed.[12]"
   ]
  },
  {
   "cell_type": "code",
   "execution_count": 11,
   "id": "d2072761-2008-409b-8711-1915c8a58fbd",
   "metadata": {},
   "outputs": [
    {
     "name": "stdout",
     "output_type": "stream",
     "text": [
      "[ 9.61769452 10.27047933 10.87410227 ...  9.97208445 10.72574542\n",
      " 11.40201899]\n"
     ]
    },
    {
     "data": {
      "image/png": "[encoded data removed]",
      "text/plain": [
       "<Figure size 432x288 with 1 Axes>"
      ]
     },
     "metadata": {
      "needs_background": "light"
     },
     "output_type": "display_data"
    }
   ],
   "source": [
    "mu, sigma = 10, 1 # mean and standard deviation\n",
    "s = np.random.normal(mu, sigma, 10000)\n",
    "print(s)\n",
    "# Displaying Data\n",
    "plt.hist(s)\n",
    "plt.show()"
   ]
  },
  {
   "cell_type": "markdown",
   "id": "f3e259b6-ecc3-4f06-93f4-211c12d32090",
   "metadata": {},
   "source": [
    "###### *This is an example graph of Normal Distribution where we can see the data is dispersed from the median and has the shape of a bell curve*"
   ]
  },
  {
   "cell_type": "markdown",
   "id": "c945a2f8-4c7f-4daf-9fdb-c75627aaa069",
   "metadata": {},
   "source": [
    "#### Uniform Distribution\n",
    "\n",
    "The continuous uniform distribution, often known as the rectangle distribution, is a family of symmetric probability distributions in probability theory and statistics. An experiment with an arbitrary outcome that falls within defined limitations is described by a distribution. The parameters a and b, which are the minimum and maximum values, define the boundaries. It is possible to have a closed or open interval.[13] The interval length is defined by the difference between the bounds; all intervals of the same length on the distribution's support are equally likely.[14]\n",
    "\n",
    "    numpy.random.uniform(low=0.0, high=1.0, size=None)\n",
    "\n",
    "This function uses Uniform distribution to select samples.  10 reflects the number of times you can toss a coin. The events have equal chance of happening so that one can expect 10 heads and 0 tails, or 4 tails and 6 heads and so forth. In Uniform Distributions, there is an equally likely chance of everything to happen.[14]"
   ]
  },
  {
   "cell_type": "code",
   "execution_count": 12,
   "id": "c225bc0f-9479-4eff-9bbc-2eb2660a9d34",
   "metadata": {},
   "outputs": [
    {
     "name": "stdout",
     "output_type": "stream",
     "text": [
      "[3.8397037  3.6034063  3.31221786 4.6456248  3.08975927 3.11736327\n",
      " 4.28284928 4.28195204 3.77985883 3.16514883]\n"
     ]
    },
    {
     "data": {
      "image/png": "[encoded data removed]",
      "text/plain": [
       "<Figure size 432x288 with 1 Axes>"
      ]
     },
     "metadata": {
      "needs_background": "light"
     },
     "output_type": "display_data"
    }
   ],
   "source": [
    "s = np.random.uniform(3,5,10)\n",
    "print(s)\n",
    "# Displaying Data\n",
    "plt.hist(s)\n",
    "plt.show()"
   ]
  },
  {
   "cell_type": "markdown",
   "id": "ba77a1a1-12df-4ae9-9972-7adc114bebd7",
   "metadata": {},
   "source": [
    "###### *This is an example graph of Uniform Distribution where we have 10 data interval of 3 to 5*"
   ]
  },
  {
   "cell_type": "markdown",
   "id": "7edd0f25-4add-46fe-9f23-e1506ca0869a",
   "metadata": {},
   "source": [
    "#### Weibull Distribution\n",
    "\n",
    "The Weibull distribution is a continuous probability distribution used in probability theory and statistics. Although it was first recognized by Fréchet (1927) and first applied by Rosin & Rammler (1933) to explain a particle size distribution, it is named after Swedish mathematician Waloddi Weibull, who described it in detail in 1951.[15]\n",
    "\n",
    "The Weibull distribution is a class of two-parameter curves.[16] Weibull models ‘time to failure data’ The probability of something failing after a certain time. Its described by its shape, scale and threshold parameters. The weilbull distribution is a probability distribution with a failure rate proportional to the power of time.[17]\n",
    "\n",
    "If the quantity X is a \"time-to-failure\", the Weibull distribution gives a distribution for which the failure rate is proportional to a power of time. The shape parameter, k, is that power plus one, and so this parameter can be interpreted directly as follows:[18]\n",
    "\n",
    "\n",
    "    numpy.random.weibull(a, size=None)\n",
    "\n",
    "This function uses Weibull distribution to select samples. It uses parameters to select samples by using the following formula.[19]\n",
    "\n",
    "    X = (-ln(U))^{1/a}\n",
    "    \n",
    "U represents uniform distribution from 0 to 1"
   ]
  },
  {
   "cell_type": "code",
   "execution_count": 13,
   "id": "c596d824-b6b9-47aa-b23d-75b3dd0a6ac2",
   "metadata": {},
   "outputs": [
    {
     "name": "stdout",
     "output_type": "stream",
     "text": [
      "[0.88888509 0.97549928 0.57037167 0.3687748  0.8369612  0.78468143\n",
      " 0.95357066 0.87304427 1.04661161 1.26168305 0.87370031 1.27559719\n",
      " 1.04543974 1.05766949 1.07687656 0.74521852 0.39546086 0.80303143\n",
      " 0.89881918 1.18273668 1.06170725 0.89727524 0.90761844 1.02028698\n",
      " 0.95760797 0.83336338 0.55446592 1.16054379 0.60139848 1.06470783\n",
      " 1.06519008 1.19846708 0.98979578 0.88402254 0.40348145 1.12031405\n",
      " 0.81425921 0.63823671 0.96959677 1.38565975 0.97973298 0.71932792\n",
      " 1.08652565 1.23091662 1.25268563 1.19963376 1.05349524 0.88950399\n",
      " 0.65544472 1.16113135 0.89937087 0.75009905 1.17339812 1.02005354\n",
      " 0.92722171 1.07974915 1.08182848 0.77257828 0.88132448 0.77488945\n",
      " 0.54742695 0.98861311 1.05840632 0.59405728 0.80794793 0.95376075\n",
      " 0.76137427 0.98814238 0.65943304 0.67794626 0.69102594 1.11055684\n",
      " 0.27177476 0.85994741 1.00674177 0.79961708 1.06736104 0.90187995\n",
      " 0.39119956 0.76381394 0.6782121  0.84782401 0.83500487 0.7496627\n",
      " 0.93125106 0.4044329  0.95330652 1.03930743 1.24659016 1.10919262\n",
      " 0.95063274 1.09666953 0.61404478 1.0344214  0.64220417 0.70127031\n",
      " 0.91999218 0.56991918 0.89080548 0.94868582]\n"
     ]
    },
    {
     "data": {
      "image/png": "[encoded data removed]",
      "text/plain": [
       "<Figure size 432x288 with 1 Axes>"
      ]
     },
     "metadata": {
      "needs_background": "light"
     },
     "output_type": "display_data"
    }
   ],
   "source": [
    "a = 5. # shape\n",
    "s = np.random.weibull(a, 100)\n",
    "print(s)\n",
    "# Displaying Data\n",
    "plt.hist(s)\n",
    "plt.show()"
   ]
  },
  {
   "cell_type": "markdown",
   "id": "f6257ca3-9211-445b-a9e9-454f6210e70f",
   "metadata": {},
   "source": [
    "###### *This is an example graph of Weibull Distribution where the data is randomly generated. Because of its formula X = (-ln(U))^{1/a} where (a = 5). The data is centred to the right. If you change the parameter a the data on the graph will change accordingly, ie if less than 5 the data will be centred more to the left on the graph [19]* "
   ]
  },
  {
   "cell_type": "markdown",
   "id": "03eb8490-3bf6-47fb-86e3-3e998b08a72c",
   "metadata": {},
   "source": [
    "## Seeds"
   ]
  },
  {
   "cell_type": "code",
   "execution_count": null,
   "id": "563db46e-8e85-41b8-aa74-6a49b2f14754",
   "metadata": {},
   "outputs": [],
   "source": []
  },
  {
   "cell_type": "markdown",
   "id": "1f15a0f5-681f-424c-a658-e6116adec8c2",
   "metadata": {},
   "source": [
    "To make the number generator more random, you need to identify a starting position. This is what you call a 'seed'. The seed must be as random as possible. However,the number generator is still predictable overtime as a pattern. They are not truly random and if you analyze enough of them you will detect a pattern.[20]\n",
    "\n",
    "\n",
    "\n",
    "The majority of pseudo-random number generators (PRNGs) are based on recursive alogrithms that start with a base value or a vector - seed - The Mersenne Twister algorithm is the most commonly used method for pseudo-random number generators.[21]\n",
    "\n",
    "The seeds function is to allow the user to set initial value for pseudo-random number generators so that analysis can be replicated. Users can use the same seed to create the same sequence of randomly generated numbers. Some pseudo-random number generators uses a technique called normally utilising default seed for example using time and hardware inputs to set intitial seed.[22]\n",
    "\n",
    "The arbitrary numerical value in this function initiates the random number generator. Then random numbers are produced  however they arent truely random because they are based on an initial seed and a deterministic process creates them. [22]"
   ]
  },
  {
   "cell_type": "markdown",
   "id": "09cc412a-3d24-42dd-a98e-8fc1f1fcf1ed",
   "metadata": {},
   "source": [
    "np.random.seed()\n",
    "np.random.rand()"
   ]
  },
  {
   "cell_type": "markdown",
   "id": "47336c8b-6d99-4bd9-8046-bfeca5a7b6f9",
   "metadata": {},
   "source": [
    "## How does the new PCG 64 out perform the Mersen Twister"
   ]
  },
  {
   "cell_type": "markdown",
   "id": "5bdbebbe-acb8-4e7a-82da-d530a22cc6b5",
   "metadata": {},
   "source": [
    "A permuted congruential generator (PCG) is a pseudorandom number generation algorithm developed in 2014 that improves the statistical features of a modulo-2n linear congruential generator by using an output permutation function. With compact and fast code and a limited state size, it delivers outstanding statistical performance.[23]\n",
    "\n",
    "![Comparison Table](https://i.ibb.co/HHLvX0P/Capture.png)\n",
    "##### *Table 1 The table shows the comparison of pseudorandom number generators[24]*\n",
    "\n",
    "The Mersenne Twister is a pseudorandom number generator (PRNG). It is by far the most widely used general-purpose PRNG.[25] Its name derives from the fact that its period length is chosen to be a Mersenne prime.[26]\n",
    "An advantage of the the Mersenne Twister generates 64-bit floating point random numbers twenty times faster than the RDRAND instruction set, which is implemented in hardware.[26]\n",
    "A disadvantage is poor diffusion: if the beginning state is substantially non-random—particularly if the initial state includes numerous zeros—it can take a long time to start generating output that passes randomness checks. As a result, two instances of the generator with almost identical initial states will frequently output virtually the same sequence for many iterations before diverging.[26]\n",
    "\n",
    "The PCG64 uses bitwise operations while Mersen Twister provides linear 0(n) time algorithm. For example the number 2 is 00000010 as bits. If you shift one number to the left 0000010 it becomes number 4. I used 8 bits to represent it but PCG 64 uses 64 bits to make random operations, which makes it really random. Since this method only changes the bits position on given seed. It uses less computer space. The algoritm is using 2,5kb more than this. In short PCG 64 is faster and uses less space.[27]\n"
   ]
  },
  {
   "cell_type": "markdown",
   "id": "dd5a2e22-da82-443e-9674-64b52c5b366c",
   "metadata": {},
   "source": [
    "## References\n",
    "\n",
    " 1.  https://numpy.org/doc/stable/reference/random/index.html\n",
    " 2.  https://numpy.org/doc/stable/reference/random/generated/numpy.random.rand.html\n",
    " 3.  https://docs.scipy.org/doc/numpy-1.15.0/reference/generated/numpy.random.RandomState.random_sample.html\n",
    " 4.  https://docs.scipy.org/doc/numpy-1.15.0/reference/generated/numpy.random.RandomState.permutation.html\n",
    " 5.  https://en.wikipedia.org/wiki/Binomial_distribution\n",
    " 6.  https://docs.scipy.org/doc/numpy-1.15.0/reference/generated/numpy.random.binomial.html\n",
    " 7.  https://www.mathsisfun.com/data/binomial-distribution.html\n",
    " 8.  https://en.wikipedia.org/wiki/Chi-squared_distribution\n",
    " 9.  https://www.jmp.com/en_us/statistics-knowledge-portal/chi-square-test.html\n",
    " 10.  https://numpy.org/doc/stable/reference/random/generated/numpy.random.chisquare.html\n",
    " 11. https://docs.scipy.org/doc/numpy-1.15.0/reference/generated/numpy.random.normal.html\n",
    " 12. https://en.wikipedia.org/wiki/Normal_distribution\n",
    " 13. https://en.wikipedia.org/wiki/Continuous_uniform_distribution\n",
    " 14. https://numpy.org/doc/stable/reference/random/generated/numpy.random.uniform.html\n",
    " 15. https://en.wikipedia.org/wiki/Weibull_distribution\n",
    " 16. https://www.mathworks.com/help/stats/weibull-distribution.html\n",
    " 17. https://www.sciencedirect.com/topics/physics-and-astronomy/weibull-distribution\n",
    " 18. https://www.geeksforgeeks.org/numpy-random-weibull-in-python/\n",
    " 19. https://numpy.org/doc/stable/reference/random/generated/numpy.random.weibull.html\n",
    " 20. https://stackoverflow.com/questions/1619627/what-does-seeding-mean\n",
    " 21. https://stats.stackexchange.com/questions/354373/what-exactly-is-a-seed-in-a-random-number-generator\n",
    " 22. https://www.youtube.com/watch?v=uial-2girHQ (seed) \n",
    " 23. https://docs.scipy.org/doc/numpy-1.15.1/reference/generated/numpy.random.seed.html\n",
    " 24. https://www.pcg-random.org/index.html\n",
    " 25. https://en.wikipedia.org/wiki/Permuted_congruential_generator\n",
    " 26. https://www.pcg-random.org/index.html#id2\n",
    " 27. https://en.wikipedia.org/wiki/Mersenne_Twister\n",
    "\n"
   ]
  }
 ],
 "metadata": {
  "kernelspec": {
   "display_name": "Python 3",
   "language": "python",
   "name": "python3"
  },
  "language_info": {
   "codemirror_mode": {
    "name": "ipython",
    "version": 3
   },
   "file_extension": ".py",
   "mimetype": "text/x-python",
   "name": "python",
   "nbconvert_exporter": "python",
   "pygments_lexer": "ipython3",
   "version": "3.8.8"
  }
 },
 "nbformat": 4,
 "nbformat_minor": 5
}
