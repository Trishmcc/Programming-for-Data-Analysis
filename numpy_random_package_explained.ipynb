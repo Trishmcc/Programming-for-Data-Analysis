{
 "cells": [
  {
   "cell_type": "markdown",
   "id": "96a34905-6cfa-4f24-bd68-05408dfb486d",
   "metadata": {},
   "source": [
    "# Numpy Random Package Explained\n",
    "\n",
    "***"
   ]
  },
  {
   "cell_type": "markdown",
   "id": "64f7c595-4b4d-447a-aa6c-39051847a6d6",
   "metadata": {},
   "source": [
    "## Introduction"
   ]
  },
  {
   "cell_type": "markdown",
   "id": "c70e21fe-3d32-4831-bfdf-3a8ba72051d8",
   "metadata": {},
   "source": [
    "Numpy.random is a module under Python’s NumPy library. The module consists of a set of functions for generating random numbers. Each function generates random numbers according to different probabilities across different intervals. Numpy.random module includes random data generation functions, permutation and distribution functions, and random generator methods which allow users to select which generator they would like to use. [1] By using the random module, users are able to initiate random arrays with given distribution functions."
   ]
  },
  {
   "cell_type": "markdown",
   "id": "3dc6fdb2-face-49af-af0a-26abe84681ac",
   "metadata": {},
   "source": [
    "## How to install numpy random package"
   ]
  },
  {
   "cell_type": "markdown",
   "id": "f5c46180-1145-4f90-825e-3d868ccdde82",
   "metadata": {},
   "source": [
    "You need Python to run numpy. Numpy can be installed using Python package manager. (pip command)"
   ]
  },
  {
   "cell_type": "markdown",
   "id": "a1e2bd2c-393b-4261-bb7e-cfd1c3789fd4",
   "metadata": {},
   "source": [
    "    pip install numpy"
   ]
  },
  {
   "cell_type": "markdown",
   "id": "86fe1aba-abcb-4175-8b34-046cefb0b946",
   "metadata": {},
   "source": [
    "Numpy random package is already included in the numpy package."
   ]
  },
  {
   "cell_type": "code",
   "execution_count": 1,
   "id": "bbe35cbf-80cd-40c0-8894-a7e9c0befb83",
   "metadata": {},
   "outputs": [],
   "source": [
    "import numpy as np"
   ]
  },
  {
   "cell_type": "markdown",
   "id": "a86f4db0-47fb-4f99-a25b-f881d4696e39",
   "metadata": {},
   "source": [
    "## Simple random data and permutation functions"
   ]
  },
  {
   "cell_type": "markdown",
   "id": "b9a102cd-c4d8-494c-ac3d-f3a623a93589",
   "metadata": {},
   "source": [
    "Simple random data can be obtained using the rand function. This rand function takes in dimensions as parameters and returns random sample data array uniformly distributed between 0 and 1. [2]\n"
   ]
  },
  {
   "cell_type": "code",
   "execution_count": 2,
   "id": "4fb5145e-034b-41f1-b6a9-77258a2dd5c6",
   "metadata": {},
   "outputs": [
    {
     "data": {
      "text/plain": [
       "array([[0.98741855, 0.42714399],\n",
       "       [0.24095815, 0.84831693]])"
      ]
     },
     "execution_count": 2,
     "metadata": {},
     "output_type": "execute_result"
    }
   ],
   "source": [
    "\n",
    "\n",
    "np.random.rand(2, 2)"
   ]
  },
  {
   "cell_type": "markdown",
   "id": "62cad9f4-c5b2-4a37-b54b-fc44115b9e39",
   "metadata": {},
   "source": [
    "Another way to obtain random data is to use random_sample function. This function takes dimensions as parameters and returns random float data array.\n",
    "\n",
    "This function uses cotinuous distribution within the given interval to generate random sample data. It uses the following formula to make this generation. [3]\n",
    "\n",
    "    (b - a) * random_sample() + a"
   ]
  },
  {
   "cell_type": "code",
   "execution_count": 3,
   "id": "0912815f-dfce-4489-ab3e-1568754c8fa3",
   "metadata": {},
   "outputs": [
    {
     "data": {
      "text/plain": [
       "0.5992618200724007"
      ]
     },
     "execution_count": 3,
     "metadata": {},
     "output_type": "execute_result"
    }
   ],
   "source": [
    "np.random.random_sample()"
   ]
  },
  {
   "cell_type": "code",
   "execution_count": 4,
   "id": "bb297171-9cc0-47dc-a025-2bc81b979af4",
   "metadata": {},
   "outputs": [
    {
     "data": {
      "text/plain": [
       "float"
      ]
     },
     "execution_count": 4,
     "metadata": {},
     "output_type": "execute_result"
    }
   ],
   "source": [
    "type(np.random.random_sample())"
   ]
  },
  {
   "cell_type": "code",
   "execution_count": 5,
   "id": "82de0f65-689c-44ad-8105-cb8a28b18134",
   "metadata": {},
   "outputs": [
    {
     "data": {
      "text/plain": [
       "array([0.66047821, 0.51109931, 0.39925527, 0.58148732, 0.31238007])"
      ]
     },
     "execution_count": 5,
     "metadata": {},
     "output_type": "execute_result"
    }
   ],
   "source": [
    "np.random.random_sample((5,))"
   ]
  },
  {
   "cell_type": "markdown",
   "id": "676e466a-c7df-4987-a5fa-78f4b1a8d9a5",
   "metadata": {},
   "source": [
    "Random state permutation is another way to create random data. The name of the function is numpy.random.RandomState.permutation. This function takes an array or a value as dimensions to permutate or generate random data. [4]"
   ]
  },
  {
   "cell_type": "code",
   "execution_count": 6,
   "id": "2a317a9e-534b-4d37-a313-abc6a1fc723c",
   "metadata": {},
   "outputs": [
    {
     "data": {
      "text/plain": [
       "array([3, 0, 2, 4, 1])"
      ]
     },
     "execution_count": 6,
     "metadata": {},
     "output_type": "execute_result"
    }
   ],
   "source": [
    "np.random.permutation(5)"
   ]
  },
  {
   "cell_type": "code",
   "execution_count": 7,
   "id": "d1c5d73b-0691-4796-b54c-e1d0cb047e82",
   "metadata": {},
   "outputs": [
    {
     "data": {
      "text/plain": [
       "array([23,  4,  5, 17,  4])"
      ]
     },
     "execution_count": 7,
     "metadata": {},
     "output_type": "execute_result"
    }
   ],
   "source": [
    "np.random.permutation([4, 4, 5, 23, 17])"
   ]
  },
  {
   "cell_type": "code",
   "execution_count": 8,
   "id": "449d8585-bbf1-44bd-a911-445eda3621b6",
   "metadata": {},
   "outputs": [
    {
     "data": {
      "text/plain": [
       "array([[8, 9],\n",
       "       [0, 1],\n",
       "       [4, 5],\n",
       "       [2, 3],\n",
       "       [6, 7]])"
      ]
     },
     "execution_count": 8,
     "metadata": {},
     "output_type": "execute_result"
    }
   ],
   "source": [
    "arr = np.arange(10).reshape((5, 2))\n",
    "np.random.permutation(arr)"
   ]
  },
  {
   "cell_type": "markdown",
   "id": "c7c3f2b0-32ba-4626-ae42-7b83de941310",
   "metadata": {},
   "source": [
    "numpy.random.RandomState.permutation changes the order of data in a given array while numpy.random.RandomState.random_sample generates a uniformly distributed random data. They are both similiar in so far as the first one leaves the original permutation as is and returns a shuffled version while the second modifies a sequence."
   ]
  },
  {
   "cell_type": "markdown",
   "id": "f861e92a-1d90-4566-88f1-aa73676c29f1",
   "metadata": {},
   "source": [
    "## Distributions"
   ]
  },
  {
   "cell_type": "markdown",
   "id": "58782c86-e514-43c3-bfad-0faadcbf9b2c",
   "metadata": {},
   "source": [
    "#### Binominal Distribution\n",
    "\n",
    "    numpy.random.binomial(n, p, size=None)\n",
    "\n",
    "This function uses binomial distribution to select samples. Samples are taken from a bionomial distributuion with given parameters. n means number of trials/atttempts, p represents probability of succcess, and n must be an integer and greater or equal to 0. p must be in the interval of 0 to 1 [6]"
   ]
  },
  {
   "cell_type": "code",
   "execution_count": 9,
   "id": "1799022f-2d76-4ee3-a10e-3ec78b343847",
   "metadata": {},
   "outputs": [
    {
     "name": "stdout",
     "output_type": "stream",
     "text": [
      "[6 7 8 6 6 2 6 5 4 3 5 4 6 4 5 6 4 6 6 6 4 3 5 5 3 3 3 4 4 3 3 3 2 7 3 3 5\n",
      " 6 4 3 3 5 5 5 5 4 5 4 5 3 4 3 5 4 5 4 4 4 5 2 5 0 7 4 4 5 4 5 6 2 3 3 3 4\n",
      " 2 3 3 7 4 8 2 5 4 6 3 2 4 1 4 4 4 1 6 4 3 5 4 4 4 3]\n"
     ]
    }
   ],
   "source": [
    "# Example of Coin Tossing Game  8 turns for each game - a 100 games in total. \n",
    "\n",
    "n, p = 8, .5       # number of attempts, probability of success\n",
    "\n",
    "s = np.random.binomial(n, p, 100)  \n",
    "print (s)"
   ]
  },
  {
   "cell_type": "markdown",
   "id": "de68bcf8-e0a9-4da0-819a-be09897209ce",
   "metadata": {},
   "source": [
    "#### Chi Square Distribution \n",
    "\n",
    "    numpy.random.chisquare(df, size=None)\n",
    "    \n",
    "This function uses chi-square distribution to select samples. df represents independent random variables where they distributed uniformly with the mean 0 and variance is 1. Then they are squared and summed to obtain chi square."
   ]
  },
  {
   "cell_type": "code",
   "execution_count": 10,
   "id": "172c0135-c51e-4958-a46f-8d46f8827095",
   "metadata": {},
   "outputs": [
    {
     "data": {
      "text/plain": [
       "array([ 6.94385415,  1.57819607,  2.16497517,  0.71264756,  5.40867468,\n",
       "        5.05610938,  3.39321072,  2.7171898 , 14.50421515])"
      ]
     },
     "execution_count": 10,
     "metadata": {},
     "output_type": "execute_result"
    }
   ],
   "source": [
    "np.random.chisquare(6,9)   # chisquare function used to create random array"
   ]
  },
  {
   "cell_type": "markdown",
   "id": "4cd2a3ed-a87f-4970-a39a-1d5777d8bf2d",
   "metadata": {},
   "source": [
    "#### Poisson Distribution \n",
    "\n",
    "    numpy.random.poisson(lam=1.0, size=None)\n",
    "    \n",
    "This function uses Poisson distribution to select samples. For bigger sample space Poisson distribution is the limit of bionominal distribution."
   ]
  },
  {
   "cell_type": "code",
   "execution_count": 11,
   "id": "d2072761-2008-409b-8711-1915c8a58fbd",
   "metadata": {},
   "outputs": [
    {
     "name": "stdout",
     "output_type": "stream",
     "text": [
      "[4 1 5 3 2 5 3 4 4 3 4 2 2 1 4 3 2 2 0 2 2 9 3 5 6 1 1 1 1 3 0 5 1 4 4 4 2\n",
      " 1 5 0 6 2 4 2 1 3 4 1 4 3 3 6 2 3 3 2 1 2 0 5 5 5 3 1 4 2 2 3 4 2 2 5 5 2\n",
      " 0 1 1 1 3 6 3 2 4 6 2 2 2 4 5 3 2 1 4 4 0 5 2 3 2 3]\n"
     ]
    }
   ],
   "source": [
    "s = np.random.poisson(3, 100)    # Poisson Distribution for interval of 3 and size of 100\n",
    "print(s)"
   ]
  },
  {
   "cell_type": "markdown",
   "id": "c945a2f8-4c7f-4daf-9fdb-c75627aaa069",
   "metadata": {},
   "source": [
    "#### Uniform Distribution\n",
    "\n",
    "    numpy.random.uniform(low=0.0, high=1.0, size=None)\n",
    "\n",
    "This function uses Uniform distribution to select samples."
   ]
  },
  {
   "cell_type": "code",
   "execution_count": 12,
   "id": "c225bc0f-9479-4eff-9bbc-2eb2660a9d34",
   "metadata": {},
   "outputs": [
    {
     "name": "stdout",
     "output_type": "stream",
     "text": [
      "[3.55822793 3.06294555 3.97205101 4.33494066 4.22260791 4.7053377\n",
      " 4.24145922 4.47944324 4.31516408 3.98796201]\n"
     ]
    }
   ],
   "source": [
    "s = np.random.uniform(3,5,10)\n",
    "print(s)"
   ]
  },
  {
   "cell_type": "markdown",
   "id": "7edd0f25-4add-46fe-9f23-e1506ca0869a",
   "metadata": {},
   "source": [
    "#### Weibull Distribution\n",
    "\n",
    "    numpy.random.weibull(a, size=None)\n",
    "\n",
    "This function uses Weibull distribution to select samples. It uses parameters to select samples by using the following formula\n",
    "\n",
    "    X = (-ln(U))^{1/a}\n",
    "    \n",
    "U represents uniform distribution from 0 to 1"
   ]
  },
  {
   "cell_type": "code",
   "execution_count": 13,
   "id": "c596d824-b6b9-47aa-b23d-75b3dd0a6ac2",
   "metadata": {},
   "outputs": [
    {
     "name": "stdout",
     "output_type": "stream",
     "text": [
      "[0.8094935  1.04733996 0.72795124 0.74289159 1.29798233 0.83180333\n",
      " 0.76757949 1.03270321 0.80504344 0.80371336 0.79981185 0.96281478\n",
      " 1.15822772 0.79936727 1.08009259 0.89341062 0.93470691 1.11169006\n",
      " 1.13467669 1.06596002 1.45835146 1.00175067 0.90476072 1.15395977\n",
      " 0.68584725 0.78751329 0.85087131 0.77085265 0.84937279 1.29744357\n",
      " 0.8720996  1.15055182 0.63952449 0.91924323 0.73833596 0.85182666\n",
      " 0.8442057  1.09936698 0.71378708 0.87540433 0.97634161 1.16501405\n",
      " 0.93260475 1.17092953 1.09226115 0.81306922 0.72200617 0.87913917\n",
      " 0.80818417 1.13423898 1.12381187 1.23878381 1.13476227 1.25730381\n",
      " 0.77057451 1.13593216 1.02057411 0.51608675 0.86933136 0.72870931\n",
      " 1.17447715 0.87612213 0.99425223 0.64642347 1.02510988 1.20198418\n",
      " 0.74898526 1.13519722 1.07158779 0.67201441 0.71148519 0.76915134\n",
      " 0.97066343 0.68257655 0.5535612  0.68783217 0.81286538 0.8437949\n",
      " 0.91389473 0.85865835 0.92334698 1.16842166 0.74912148 0.9900304\n",
      " 0.69077969 0.9182797  0.78695597 0.13919773 0.97541648 1.18338768\n",
      " 0.71719963 0.61227071 0.90229592 0.68473736 0.80382497 1.18067709\n",
      " 0.95002357 0.99717369 1.02000566 0.72553574]\n"
     ]
    }
   ],
   "source": [
    "a = 5. # shape\n",
    "s = np.random.weibull(a, 100)\n",
    "print(s)"
   ]
  },
  {
   "cell_type": "markdown",
   "id": "03eb8490-3bf6-47fb-86e3-3e998b08a72c",
   "metadata": {},
   "source": [
    "## Seeds"
   ]
  },
  {
   "cell_type": "markdown",
   "id": "1f15a0f5-681f-424c-a658-e6116adec8c2",
   "metadata": {},
   "source": [
    "They aren't truly random and if you analyze enough of them you will detect a pattern. *\n",
    "\n",
    "To make the number generator more random, you need to identify a starting position. This is what you call a 'seed'. The seed must be as random as possible. However,the number generator is still predictable overtime as a pattern .\n",
    "\n",
    "The majority of pseudo-random number generators (PRNGs) are based on recursive alogrithms that start with a base value or a vector - seed - The Mersenne Twister algorithm is the most commonly used method for pseudo-random number generators.\n",
    "\n",
    "The seeds function is to allow the user to set initial value for pseudo-random number generators so that analysis can be replicated. Users can use the saem seed to create the same sequence of randomly generated numbers. Some pseudo-random number generators uses a technique called normally utilising default seed for example using time and hardware inputs to set intitial seed."
   ]
  },
  {
   "cell_type": "code",
   "execution_count": 15,
   "id": "c1e44904-eea0-44fc-a44f-b391d150f0c4",
   "metadata": {},
   "outputs": [
    {
     "name": "stdout",
     "output_type": "stream",
     "text": [
      "None\n"
     ]
    }
   ],
   "source": [
    "np.random.seed()\n",
    "np.random.rand()"
   ]
  },
  {
   "cell_type": "markdown",
   "id": "dd5a2e22-da82-443e-9674-64b52c5b366c",
   "metadata": {},
   "source": [
    "## References\n",
    "\n",
    "\n",
    " 1.  https://numpy.org/doc/stable/reference/random/index.html\n",
    " 2. https://docs.scipy.org/doc/numpy-1.15.0/reference/generated/numpy.random.RandomState.rand.html\n",
    " 3. https://docs.scipy.org/doc/numpy-1.15.0/reference/generated/numpy.random.RandomState.random_sample.html\n",
    " 4. https://docs.scipy.org/doc/numpy-1.15.0/reference/generated/numpy.random.RandomState.permutation.html\n",
    " 5. https://stackoverflow.com/questions/1619627/what-does-seeding-mean\n",
    " 6. https://docs.scipy.org/doc/numpy-1.15.0/reference/generated/numpy.random.binomial.html\n",
    " 7. https://stats.stackexchange.com/questions/354373/what-exactly-is-a-seed-in-a-random-number-generator\n",
    " 8. https://docs.scipy.org/doc/numpy-1.15.1/reference/generated/numpy.random.seed.html\n",
    "\n"
   ]
  },
  {
   "cell_type": "code",
   "execution_count": null,
   "id": "6e48e581-af3f-4385-b7e7-e4348aaa2aa1",
   "metadata": {},
   "outputs": [],
   "source": []
  }
 ],
 "metadata": {
  "kernelspec": {
   "display_name": "Python 3",
   "language": "python",
   "name": "python3"
  },
  "language_info": {
   "codemirror_mode": {
    "name": "ipython",
    "version": 3
   },
   "file_extension": ".py",
   "mimetype": "text/x-python",
   "name": "python",
   "nbconvert_exporter": "python",
   "pygments_lexer": "ipython3",
   "version": "3.8.8"
  }
 },
 "nbformat": 4,
 "nbformat_minor": 5
}
