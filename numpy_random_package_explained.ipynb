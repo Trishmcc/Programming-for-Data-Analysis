{
 "cells": [
  {
   "cell_type": "markdown",
   "id": "96a34905-6cfa-4f24-bd68-05408dfb486d",
   "metadata": {},
   "source": [
    "# Numpy Random Package Explained\n",
    "\n",
    "***"
   ]
  },
  {
   "cell_type": "markdown",
   "id": "64f7c595-4b4d-447a-aa6c-39051847a6d6",
   "metadata": {},
   "source": [
    "## Introduction"
   ]
  },
  {
   "cell_type": "markdown",
   "id": "c70e21fe-3d32-4831-bfdf-3a8ba72051d8",
   "metadata": {},
   "source": [
    "The overall purpose of the package is...."
   ]
  },
  {
   "cell_type": "markdown",
   "id": "3dc6fdb2-face-49af-af0a-26abe84681ac",
   "metadata": {},
   "source": [
    "## How to install numpy random package"
   ]
  },
  {
   "cell_type": "markdown",
   "id": "f5c46180-1145-4f90-825e-3d868ccdde82",
   "metadata": {},
   "source": [
    "Information about numpy"
   ]
  },
  {
   "cell_type": "markdown",
   "id": "a86f4db0-47fb-4f99-a25b-f881d4696e39",
   "metadata": {},
   "source": [
    "## Simple random data and permutation functions"
   ]
  },
  {
   "cell_type": "markdown",
   "id": "b9a102cd-c4d8-494c-ac3d-f3a623a93589",
   "metadata": {},
   "source": [
    "INformation later"
   ]
  },
  {
   "cell_type": "markdown",
   "id": "f861e92a-1d90-4566-88f1-aa73676c29f1",
   "metadata": {},
   "source": [
    "## Distributions"
   ]
  },
  {
   "cell_type": "markdown",
   "id": "58782c86-e514-43c3-bfad-0faadcbf9b2c",
   "metadata": {},
   "source": [
    "5 distribution names"
   ]
  },
  {
   "cell_type": "markdown",
   "id": "03eb8490-3bf6-47fb-86e3-3e998b08a72c",
   "metadata": {},
   "source": [
    "## Seeds"
   ]
  },
  {
   "cell_type": "markdown",
   "id": "1f15a0f5-681f-424c-a658-e6116adec8c2",
   "metadata": {},
   "source": [
    "Explanation"
   ]
  },
  {
   "cell_type": "code",
   "execution_count": null,
   "id": "6e48e581-af3f-4385-b7e7-e4348aaa2aa1",
   "metadata": {},
   "outputs": [],
   "source": []
  }
 ],
 "metadata": {
  "kernelspec": {
   "display_name": "Python 3",
   "language": "python",
   "name": "python3"
  },
  "language_info": {
   "codemirror_mode": {
    "name": "ipython",
    "version": 3
   },
   "file_extension": ".py",
   "mimetype": "text/x-python",
   "name": "python",
   "nbconvert_exporter": "python",
   "pygments_lexer": "ipython3",
   "version": "3.8.8"
  }
 },
 "nbformat": 4,
 "nbformat_minor": 5
}
