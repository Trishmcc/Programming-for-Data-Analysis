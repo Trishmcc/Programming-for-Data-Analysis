{
 "cells": [
  {
   "cell_type": "markdown",
   "id": "96a34905-6cfa-4f24-bd68-05408dfb486d",
   "metadata": {},
   "source": [
    "# Numpy Random Package Explained\n",
    "\n",
    "***"
   ]
  },
  {
   "cell_type": "markdown",
   "id": "64f7c595-4b4d-447a-aa6c-39051847a6d6",
   "metadata": {},
   "source": [
    "## Introduction"
   ]
  },
  {
   "cell_type": "markdown",
   "id": "c70e21fe-3d32-4831-bfdf-3a8ba72051d8",
   "metadata": {},
   "source": [
    "Numpy.random is a module under Python’s NumPy library. The module consists of a set of functions for generating random numbers. Each function generates random numbers according to different probabilities across different intervals. Numpy.random module includes random data generation functions, permutation and distribution functions, and random generator methods which allow users to select which generator they would like to use. [1] By using the random module, users are able to initiate random arrays with given distribution functions."
   ]
  },
  {
   "cell_type": "markdown",
   "id": "3dc6fdb2-face-49af-af0a-26abe84681ac",
   "metadata": {},
   "source": [
    "## How to install numpy random package"
   ]
  },
  {
   "cell_type": "markdown",
   "id": "f5c46180-1145-4f90-825e-3d868ccdde82",
   "metadata": {},
   "source": [
    "You need Python to run numpy. Numpy can be installed using Python package manager. (pip command)"
   ]
  },
  {
   "cell_type": "markdown",
   "id": "a1e2bd2c-393b-4261-bb7e-cfd1c3789fd4",
   "metadata": {},
   "source": [
    "    pip install numpy"
   ]
  },
  {
   "cell_type": "markdown",
   "id": "86fe1aba-abcb-4175-8b34-046cefb0b946",
   "metadata": {},
   "source": [
    "Numpy random package is already included in the numpy package."
   ]
  },
  {
   "cell_type": "code",
   "execution_count": 1,
   "id": "bbe35cbf-80cd-40c0-8894-a7e9c0befb83",
   "metadata": {},
   "outputs": [],
   "source": [
    "import numpy as np\n",
    "import matplotlib.pyplot as plt"
   ]
  },
  {
   "cell_type": "markdown",
   "id": "a86f4db0-47fb-4f99-a25b-f881d4696e39",
   "metadata": {},
   "source": [
    "## Simple random data and permutation functions"
   ]
  },
  {
   "cell_type": "markdown",
   "id": "b9a102cd-c4d8-494c-ac3d-f3a623a93589",
   "metadata": {},
   "source": [
    "Simple random data can be obtained using the rand function. This rand function takes in dimensions as parameters and returns random sample data array uniformly distributed between 0 and 1. [2]\n"
   ]
  },
  {
   "cell_type": "code",
   "execution_count": 2,
   "id": "4fb5145e-034b-41f1-b6a9-77258a2dd5c6",
   "metadata": {},
   "outputs": [
    {
     "data": {
      "text/plain": [
       "array([[0.50497526, 0.58812167],\n",
       "       [0.05506313, 0.67202798]])"
      ]
     },
     "execution_count": 2,
     "metadata": {},
     "output_type": "execute_result"
    }
   ],
   "source": [
    "np.random.rand(2, 2)"
   ]
  },
  {
   "cell_type": "markdown",
   "id": "62cad9f4-c5b2-4a37-b54b-fc44115b9e39",
   "metadata": {},
   "source": [
    "Another way to obtain random data is to use random_sample function. This function takes dimensions as parameters and returns random float data array.\n",
    "\n",
    "This function uses cotinuous distribution within the given interval to generate random sample data. It uses the following formula to make this generation. [3]\n",
    "\n",
    "    (b - a) * random_sample() + a"
   ]
  },
  {
   "cell_type": "code",
   "execution_count": 3,
   "id": "0912815f-dfce-4489-ab3e-1568754c8fa3",
   "metadata": {},
   "outputs": [
    {
     "data": {
      "text/plain": [
       "0.470607774281556"
      ]
     },
     "execution_count": 3,
     "metadata": {},
     "output_type": "execute_result"
    }
   ],
   "source": [
    "np.random.random_sample()"
   ]
  },
  {
   "cell_type": "code",
   "execution_count": 4,
   "id": "bb297171-9cc0-47dc-a025-2bc81b979af4",
   "metadata": {},
   "outputs": [
    {
     "data": {
      "text/plain": [
       "float"
      ]
     },
     "execution_count": 4,
     "metadata": {},
     "output_type": "execute_result"
    }
   ],
   "source": [
    "type(np.random.random_sample())"
   ]
  },
  {
   "cell_type": "code",
   "execution_count": 5,
   "id": "82de0f65-689c-44ad-8105-cb8a28b18134",
   "metadata": {},
   "outputs": [
    {
     "data": {
      "text/plain": [
       "array([0.68635089, 0.78759252, 0.63301019, 0.29703255, 0.81631652])"
      ]
     },
     "execution_count": 5,
     "metadata": {},
     "output_type": "execute_result"
    }
   ],
   "source": [
    "np.random.random_sample((5,))"
   ]
  },
  {
   "cell_type": "markdown",
   "id": "676e466a-c7df-4987-a5fa-78f4b1a8d9a5",
   "metadata": {},
   "source": [
    "Random state permutation is another way to create random data. The name of the function is numpy.random.RandomState.permutation. This function takes an array or a value as dimensions to permutate or generate random data. [4]"
   ]
  },
  {
   "cell_type": "code",
   "execution_count": 6,
   "id": "2a317a9e-534b-4d37-a313-abc6a1fc723c",
   "metadata": {},
   "outputs": [
    {
     "data": {
      "text/plain": [
       "array([3, 4, 0, 1, 2])"
      ]
     },
     "execution_count": 6,
     "metadata": {},
     "output_type": "execute_result"
    }
   ],
   "source": [
    "np.random.permutation(5)"
   ]
  },
  {
   "cell_type": "code",
   "execution_count": 7,
   "id": "d1c5d73b-0691-4796-b54c-e1d0cb047e82",
   "metadata": {},
   "outputs": [
    {
     "data": {
      "text/plain": [
       "array([ 4, 17, 23,  5,  4])"
      ]
     },
     "execution_count": 7,
     "metadata": {},
     "output_type": "execute_result"
    }
   ],
   "source": [
    "np.random.permutation([4, 4, 5, 23, 17])"
   ]
  },
  {
   "cell_type": "code",
   "execution_count": 8,
   "id": "449d8585-bbf1-44bd-a911-445eda3621b6",
   "metadata": {},
   "outputs": [
    {
     "data": {
      "text/plain": [
       "array([[6, 7],\n",
       "       [2, 3],\n",
       "       [8, 9],\n",
       "       [0, 1],\n",
       "       [4, 5]])"
      ]
     },
     "execution_count": 8,
     "metadata": {},
     "output_type": "execute_result"
    }
   ],
   "source": [
    "arr = np.arange(10).reshape((5, 2))\n",
    "np.random.permutation(arr)"
   ]
  },
  {
   "cell_type": "markdown",
   "id": "c7c3f2b0-32ba-4626-ae42-7b83de941310",
   "metadata": {},
   "source": [
    "numpy.random.RandomState.permutation changes the order of data in a given array while numpy.random.RandomState.random_sample generates a uniformly distributed random data. They are both similiar in so far as the first one leaves the original permutation as is and returns a shuffled version while the second modifies a sequence."
   ]
  },
  {
   "cell_type": "markdown",
   "id": "f861e92a-1d90-4566-88f1-aa73676c29f1",
   "metadata": {},
   "source": [
    "## Distributions"
   ]
  },
  {
   "cell_type": "markdown",
   "id": "58782c86-e514-43c3-bfad-0faadcbf9b2c",
   "metadata": {},
   "source": [
    "#### Binominal Distribution\n",
    "\n",
    "    numpy.random.binomial(n, p, size=None)\n",
    "\n",
    "This function uses binomial distribution to select samples. Samples are taken from a bionomial distributuion with given parameters. n means number of trials/atttempts, p represents probability of succcess, and n must be an integer and greater or equal to 0. p must be in the interval of 0 to 1 [6]"
   ]
  },
  {
   "cell_type": "code",
   "execution_count": 18,
   "id": "1799022f-2d76-4ee3-a10e-3ec78b343847",
   "metadata": {},
   "outputs": [
    {
     "name": "stdout",
     "output_type": "stream",
     "text": [
      "[1 0 0 0 1 1 0 1 0 0 1 1 0 1 0 1 1 1 1 1 0 1 1 0 0 0 1 0 0 1 0 0 1 1 0 1 1\n",
      " 1 1 1 1 1 0 0 1 0 0 0 1 0 0 0 0 1 0 1 1 1 1 0 1 1 1 1 1 1 0 1 1 1 0 0 1 0\n",
      " 0 1 1 0 1 0 1 0 0 1 1 1 0 0 1 1 1 1 0 0 0 1 1 1 1 0]\n"
     ]
    },
    {
     "data": {
      "image/png": "[encoded data removed]",
      "text/plain": [
       "<Figure size 432x288 with 1 Axes>"
      ]
     },
     "metadata": {
      "needs_background": "light"
     },
     "output_type": "display_data"
    }
   ],
   "source": [
    "# Example of Coin Tossing Game 1 turns for each game - a 100 games in total. \n",
    "\n",
    "n, p = 1, .5       # number of attempts, probability of success\n",
    "\n",
    "s = np.random.binomial(n, p, 100)  \n",
    "print (s)\n",
    "# Displaying Data\n",
    "plt.plot(s)\n",
    "plt.show()"
   ]
  },
  {
   "cell_type": "markdown",
   "id": "222d0a5d-1a1f-43f1-8d2b-ba2aed019445",
   "metadata": {},
   "source": [
    "###### *This a graph of a simple tossing game where 0 is tails and 1 is heads.*"
   ]
  },
  {
   "cell_type": "markdown",
   "id": "de68bcf8-e0a9-4da0-819a-be09897209ce",
   "metadata": {},
   "source": [
    "#### Chi Square Distribution \n",
    "\n",
    "    numpy.random.chisquare(df, size=None)\n",
    "    \n",
    "This function uses chi-square distribution to select samples. df represents independent random variables where they distributed uniformly with the mean 0 and variance is 1. Then they are squared and summed to obtain chi square."
   ]
  },
  {
   "cell_type": "code",
   "execution_count": 19,
   "id": "172c0135-c51e-4958-a46f-8d46f8827095",
   "metadata": {},
   "outputs": [
    {
     "name": "stdout",
     "output_type": "stream",
     "text": [
      "[12.26155291  2.3493419   3.74094945  3.35929731  1.70986879  8.21065734\n",
      "  3.17339802  5.75072544  8.91114479]\n"
     ]
    },
    {
     "data": {
      "image/png": "[encoded data removed]",
      "text/plain": [
       "<Figure size 432x288 with 1 Axes>"
      ]
     },
     "metadata": {
      "needs_background": "light"
     },
     "output_type": "display_data"
    }
   ],
   "source": [
    "s = np.random.chisquare(6,9)   # chisquare function used to create random array\n",
    "print(s)\n",
    "# Displaying Data\n",
    "plt.plot(s)\n",
    "plt.show()"
   ]
  },
  {
   "cell_type": "markdown",
   "id": "5337f95b-9073-4215-8879-afa456f806ec",
   "metadata": {},
   "source": [
    "###### *This is an example graph of Chi Square Distribution.The data is randomly generated similiar to Binominal Distribution*"
   ]
  },
  {
   "cell_type": "markdown",
   "id": "4cd2a3ed-a87f-4970-a39a-1d5777d8bf2d",
   "metadata": {},
   "source": [
    "#### Normal Distribution \n",
    "\n",
    "    numpy.random.normal\n",
    "    \n",
    "This function uses normal distribuion to select samples. The probability density function of the normal distribution was initially computed by De Moivre and later by both Gauss and Laplaceis. Its commonly referred as the bell curve because of its shape.\n",
    "\n",
    "In nature normal distributions are common. It represents for example the observed distribution of samples altered by by a large number of small random disturbances, each having its own unique distribution.\n",
    "\n",
    "A normal (or Gaussian, Gauss, or Laplace–Gauss) distribution is a type of continuous probability distribution for a real-valued random variable in probability theory. The probability density function uses the following formula.\n",
    "\n",
    "![formula](https://wikimedia.org/api/rest_v1/media/math/render/svg/00cb9b2c9b866378626bcfa45c86a6de2f2b2e40)\n",
    "\n",
    "The parameter mu represents the distribution's mean or expectation, whereas sigma represents its standard deviation. The distribution's variance is v. A normal deviate is a random variable that has a Gaussian distribution and is normally distributed."
   ]
  },
  {
   "cell_type": "code",
   "execution_count": 13,
   "id": "d2072761-2008-409b-8711-1915c8a58fbd",
   "metadata": {},
   "outputs": [
    {
     "name": "stdout",
     "output_type": "stream",
     "text": [
      "[ 9.00097531 10.70194571 10.75705696  9.43651895  9.93185683  9.36964182\n",
      " 10.92388292 10.94726723  9.03737465 11.44409704 10.66871104  9.14910961\n",
      " 10.28612307 11.35191794 10.24309786 10.23667804  9.501181   11.59992535\n",
      " 10.93707621 10.36034306  8.95400941 10.33073137 10.52808755  9.47136697\n",
      "  9.53236151  9.23728007  7.8484895  10.21032141  8.45699229 10.48253252\n",
      " 10.9101646  11.71969757 11.65804591  9.6004329  11.21157977  9.28450744\n",
      " 10.41077011 11.09659776  9.63732142  9.69292414  9.70010513  9.14215016\n",
      "  9.04439541 11.33427177 11.33100486 10.56878479 10.70521296  9.38471433\n",
      "  9.46621631 10.32448833  9.22063422 10.88929587  9.03487362  9.93048998\n",
      " 12.09625522  9.35011579 10.15011001 10.53005295 10.80610936  8.92059564\n",
      "  9.55734418  9.08950181 10.35756651 10.19659827  8.54165834 10.87579678\n",
      "  8.7097277  11.29731032  9.49107346  8.38592248  9.41477329  9.80475545\n",
      "  8.41841627 10.43512972  9.54666201  9.7981013  11.42871354 11.51961936\n",
      "  9.38738585 10.15934114 10.38181319  9.42557152 10.836026   10.0807997\n",
      " 10.53566886 10.34105024 11.37586569  7.66112479 10.77833282 12.46541443\n",
      " 11.27654676 10.1805299  12.97458394 10.74174669  9.94717769 11.91274816\n",
      "  9.13782771 11.20343096  9.75147102  9.35637663]\n"
     ]
    },
    {
     "data": {
      "image/png": "[encoded data removed]",
      "text/plain": [
       "<Figure size 432x288 with 1 Axes>"
      ]
     },
     "metadata": {
      "needs_background": "light"
     },
     "output_type": "display_data"
    }
   ],
   "source": [
    "mu, sigma = 10, 1 # mean and standard deviation\n",
    "s = np.random.normal(mu, sigma, 100)\n",
    "print(s)\n",
    "# Displaying Data\n",
    "plt.hist(s)\n",
    "plt.show()"
   ]
  },
  {
   "cell_type": "markdown",
   "id": "f3e259b6-ecc3-4f06-93f4-211c12d32090",
   "metadata": {},
   "source": [
    "###### *This is an example graph of Normal Distribution where we can see the data is dispersed from the median and has the shape of a bell curve*"
   ]
  },
  {
   "cell_type": "markdown",
   "id": "c945a2f8-4c7f-4daf-9fdb-c75627aaa069",
   "metadata": {},
   "source": [
    "#### Uniform Distribution\n",
    "\n",
    "    numpy.random.uniform(low=0.0, high=1.0, size=None)\n",
    "\n",
    "This function uses Uniform distribution to select samples."
   ]
  },
  {
   "cell_type": "code",
   "execution_count": 14,
   "id": "c225bc0f-9479-4eff-9bbc-2eb2660a9d34",
   "metadata": {},
   "outputs": [
    {
     "name": "stdout",
     "output_type": "stream",
     "text": [
      "[3.01702632 4.01732682 3.48697654 3.00736613 4.16053017 4.96011369\n",
      " 3.45351421 3.80828609 3.02885384 3.1627849 ]\n"
     ]
    },
    {
     "data": {
      "image/png": "[encoded data removed]",
      "text/plain": [
       "<Figure size 432x288 with 1 Axes>"
      ]
     },
     "metadata": {
      "needs_background": "light"
     },
     "output_type": "display_data"
    }
   ],
   "source": [
    "s = np.random.uniform(3,5,10)\n",
    "print(s)\n",
    "# Displaying Data\n",
    "plt.hist(s)\n",
    "plt.show()"
   ]
  },
  {
   "cell_type": "markdown",
   "id": "ba77a1a1-12df-4ae9-9972-7adc114bebd7",
   "metadata": {},
   "source": [
    "###### *This is an example graph of Uniform Distribution where we have 10 data interval of 3 to 5*"
   ]
  },
  {
   "cell_type": "markdown",
   "id": "7edd0f25-4add-46fe-9f23-e1506ca0869a",
   "metadata": {},
   "source": [
    "#### Weibull Distribution\n",
    "\n",
    "    numpy.random.weibull(a, size=None)\n",
    "\n",
    "This function uses Weibull distribution to select samples. It uses parameters to select samples by using the following formula\n",
    "\n",
    "    X = (-ln(U))^{1/a}\n",
    "    \n",
    "U represents uniform distribution from 0 to 1"
   ]
  },
  {
   "cell_type": "code",
   "execution_count": 22,
   "id": "c596d824-b6b9-47aa-b23d-75b3dd0a6ac2",
   "metadata": {},
   "outputs": [
    {
     "name": "stdout",
     "output_type": "stream",
     "text": [
      "[0.67688092 0.57198543 0.75374843 0.93706221 1.23447139 1.00465954\n",
      " 0.68326228 1.30524252 1.27635022 0.53195771 1.13022113 0.99575242\n",
      " 0.72920086 1.00189868 0.61173797 0.9368645  1.18633769 0.86000826\n",
      " 0.77838316 1.00505957 1.08168462 1.57352956 0.73354521 1.14807713\n",
      " 1.03119904 0.91289044 1.03080917 0.79841708 0.6836097  0.71392567\n",
      " 0.80521611 0.84085391 1.01971783 0.74396044 0.81704322 1.01201533\n",
      " 0.90895807 1.01842665 1.04076981 0.69130144 1.20204235 1.38279851\n",
      " 1.11676139 1.30336635 0.58504304 1.2548669  0.97019473 0.90285289\n",
      " 1.145666   0.58365107 0.80115217 0.7860133  0.95228668 1.10727679\n",
      " 0.98353615 1.12598168 0.7746255  0.99991533 1.0630969  1.17373453\n",
      " 1.16002183 0.79007507 0.58658834 0.61494174 1.0571962  0.76599503\n",
      " 1.14888888 1.1184298  0.6573962  1.05879031 0.8530461  0.81740752\n",
      " 0.99113958 0.33192265 0.99868428 0.9655807  1.14503474 1.20526369\n",
      " 0.44789034 0.49912532 0.97089809 0.94860159 0.77376053 0.51221227\n",
      " 0.81403785 0.56354191 0.86800948 0.90941345 1.14476579 0.8460584\n",
      " 0.83937023 1.0704817  1.128592   0.90603778 1.05154064 0.9291039\n",
      " 0.58413097 0.82308665 0.87364716 0.43109552]\n"
     ]
    },
    {
     "data": {
      "image/png": "[encoded data removed]",
      "text/plain": [
       "<Figure size 432x288 with 1 Axes>"
      ]
     },
     "metadata": {
      "needs_background": "light"
     },
     "output_type": "display_data"
    }
   ],
   "source": [
    "a = 5. # shape\n",
    "s = np.random.weibull(a, 100)\n",
    "print(s)\n",
    "# Displaying Data\n",
    "plt.hist(s)\n",
    "plt.show()"
   ]
  },
  {
   "cell_type": "markdown",
   "id": "f6257ca3-9211-445b-a9e9-454f6210e70f",
   "metadata": {},
   "source": [
    "###### *This is an example graph of Weibull Distribution where the data is randomly generated. Because of its formula X = (-ln(U))^{1/a} where (a = 5). The data is centred to the right. If you change the parameter a the data on the graph will change accordingly, ie if less than 5 the data will be centred more to the left on the graph*"
   ]
  },
  {
   "cell_type": "markdown",
   "id": "03eb8490-3bf6-47fb-86e3-3e998b08a72c",
   "metadata": {},
   "source": [
    "## Seeds"
   ]
  },
  {
   "cell_type": "markdown",
   "id": "1f15a0f5-681f-424c-a658-e6116adec8c2",
   "metadata": {},
   "source": [
    "They aren't truly random and if you analyze enough of them you will detect a pattern. *\n",
    "\n",
    "To make the number generator more random, you need to identify a starting position. This is what you call a 'seed'. The seed must be as random as possible. However,the number generator is still predictable overtime as a pattern .\n",
    "\n",
    "The majority of pseudo-random number generators (PRNGs) are based on recursive alogrithms that start with a base value or a vector - seed - The Mersenne Twister algorithm is the most commonly used method for pseudo-random number generators.\n",
    "\n",
    "The seeds function is to allow the user to set initial value for pseudo-random number generators so that analysis can be replicated. Users can use the saem seed to create the same sequence of randomly generated numbers. Some pseudo-random number generators uses a technique called normally utilising default seed for example using time and hardware inputs to set intitial seed."
   ]
  },
  {
   "cell_type": "code",
   "execution_count": 14,
   "id": "c1e44904-eea0-44fc-a44f-b391d150f0c4",
   "metadata": {},
   "outputs": [
    {
     "data": {
      "text/plain": [
       "0.3349026835590304"
      ]
     },
     "execution_count": 14,
     "metadata": {},
     "output_type": "execute_result"
    }
   ],
   "source": [
    "np.random.seed()\n",
    "np.random.rand()"
   ]
  },
  {
   "cell_type": "markdown",
   "id": "dd5a2e22-da82-443e-9674-64b52c5b366c",
   "metadata": {},
   "source": [
    "## References\n",
    "\n",
    "\n",
    " 1.  https://numpy.org/doc/stable/reference/random/index.html\n",
    " 2. https://docs.scipy.org/doc/numpy-1.15.0/reference/generated/numpy.random.RandomState.rand.html\n",
    " 3. https://docs.scipy.org/doc/numpy-1.15.0/reference/generated/numpy.random.RandomState.random_sample.html\n",
    " 4. https://docs.scipy.org/doc/numpy-1.15.0/reference/generated/numpy.random.RandomState.permutation.html\n",
    " 5. https://stackoverflow.com/questions/1619627/what-does-seeding-mean\n",
    " 6. https://docs.scipy.org/doc/numpy-1.15.0/reference/generated/numpy.random.binomial.html\n",
    " 7. https://stats.stackexchange.com/questions/354373/what-exactly-is-a-seed-in-a-random-number-generator\n",
    " 8. https://docs.scipy.org/doc/numpy-1.15.1/reference/generated/numpy.random.seed.html\n",
    " 9. https://docs.scipy.org/doc/numpy-1.15.0/reference/generated/numpy.random.normal.html\n",
    " 10. https://en.wikipedia.org/wiki/Normal_distribution\n",
    "\n"
   ]
  },
  {
   "cell_type": "code",
   "execution_count": null,
   "id": "6e48e581-af3f-4385-b7e7-e4348aaa2aa1",
   "metadata": {},
   "outputs": [],
   "source": []
  }
 ],
 "metadata": {
  "kernelspec": {
   "display_name": "Python 3",
   "language": "python",
   "name": "python3"
  },
  "language_info": {
   "codemirror_mode": {
    "name": "ipython",
    "version": 3
   },
   "file_extension": ".py",
   "mimetype": "text/x-python",
   "name": "python",
   "nbconvert_exporter": "python",
   "pygments_lexer": "ipython3",
   "version": "3.8.8"
  }
 },
 "nbformat": 4,
 "nbformat_minor": 5
}
