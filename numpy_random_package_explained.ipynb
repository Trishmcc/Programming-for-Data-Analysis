{
 "cells": [
  {
   "cell_type": "markdown",
   "id": "96a34905-6cfa-4f24-bd68-05408dfb486d",
   "metadata": {},
   "source": [
    "# Numpy Random Package Explained\n",
    "\n",
    "***"
   ]
  },
  {
   "cell_type": "markdown",
   "id": "64f7c595-4b4d-447a-aa6c-39051847a6d6",
   "metadata": {},
   "source": [
    "## Introduction"
   ]
  },
  {
   "cell_type": "markdown",
   "id": "c70e21fe-3d32-4831-bfdf-3a8ba72051d8",
   "metadata": {},
   "source": [
    "Numpy.random is a module under Python’s NumPy library. The module consists of a set of functions for generating random numbers. Each function generates random numbers according to different probabilities across different intervals. Numpy.random module includes random data generation functions, permutation and distribution functions, and random generator methods which allow users to select which generator they would like to use. [1] By using the random module, users are able to initiate random arrays with given distribution functions."
   ]
  },
  {
   "cell_type": "markdown",
   "id": "3dc6fdb2-face-49af-af0a-26abe84681ac",
   "metadata": {},
   "source": [
    "## How to install numpy random package"
   ]
  },
  {
   "cell_type": "markdown",
   "id": "f5c46180-1145-4f90-825e-3d868ccdde82",
   "metadata": {},
   "source": [
    "You need Python to run numpy. Numpy can be installed using Python package manager. (pip command)"
   ]
  },
  {
   "cell_type": "markdown",
   "id": "a1e2bd2c-393b-4261-bb7e-cfd1c3789fd4",
   "metadata": {},
   "source": [
    "    pip install numpy"
   ]
  },
  {
   "cell_type": "markdown",
   "id": "86fe1aba-abcb-4175-8b34-046cefb0b946",
   "metadata": {},
   "source": [
    "Numpy random package is already included in the numpy package."
   ]
  },
  {
   "cell_type": "code",
   "execution_count": 1,
   "id": "bbe35cbf-80cd-40c0-8894-a7e9c0befb83",
   "metadata": {},
   "outputs": [],
   "source": [
    "import numpy as np"
   ]
  },
  {
   "cell_type": "markdown",
   "id": "a86f4db0-47fb-4f99-a25b-f881d4696e39",
   "metadata": {},
   "source": [
    "## Simple random data and permutation functions"
   ]
  },
  {
   "cell_type": "markdown",
   "id": "b9a102cd-c4d8-494c-ac3d-f3a623a93589",
   "metadata": {},
   "source": [
    "Simple random data can be obtained using the rand function. This rand function takes in dimensions as parameters and returns random sample data array uniformly distributed between 0 and 1. [2]\n"
   ]
  },
  {
   "cell_type": "code",
   "execution_count": 2,
   "id": "4fb5145e-034b-41f1-b6a9-77258a2dd5c6",
   "metadata": {},
   "outputs": [
    {
     "data": {
      "text/plain": [
       "array([[0.52781962, 0.26173865],\n",
       "       [0.06795762, 0.13414751]])"
      ]
     },
     "execution_count": 2,
     "metadata": {},
     "output_type": "execute_result"
    }
   ],
   "source": [
    "\n",
    "\n",
    "np.random.rand(2, 2)"
   ]
  },
  {
   "cell_type": "markdown",
   "id": "62cad9f4-c5b2-4a37-b54b-fc44115b9e39",
   "metadata": {},
   "source": [
    "Another way to obtain random data is to use random_sample function. This function takes dimensions as parameters and returns random float data array.\n",
    "\n",
    "This function uses cotinuous distribution within the given interval to generate random sample data. It uses the following formula to make this generation. [3]\n",
    "\n",
    "    (b - a) * random_sample() + a"
   ]
  },
  {
   "cell_type": "code",
   "execution_count": 3,
   "id": "0912815f-dfce-4489-ab3e-1568754c8fa3",
   "metadata": {},
   "outputs": [
    {
     "data": {
      "text/plain": [
       "0.9063209765525431"
      ]
     },
     "execution_count": 3,
     "metadata": {},
     "output_type": "execute_result"
    }
   ],
   "source": [
    "np.random.random_sample()"
   ]
  },
  {
   "cell_type": "code",
   "execution_count": 4,
   "id": "bb297171-9cc0-47dc-a025-2bc81b979af4",
   "metadata": {},
   "outputs": [
    {
     "data": {
      "text/plain": [
       "float"
      ]
     },
     "execution_count": 4,
     "metadata": {},
     "output_type": "execute_result"
    }
   ],
   "source": [
    "type(np.random.random_sample())"
   ]
  },
  {
   "cell_type": "code",
   "execution_count": 5,
   "id": "82de0f65-689c-44ad-8105-cb8a28b18134",
   "metadata": {},
   "outputs": [
    {
     "data": {
      "text/plain": [
       "array([0.74631595, 0.98283633, 0.7221544 , 0.69689229, 0.57728343])"
      ]
     },
     "execution_count": 5,
     "metadata": {},
     "output_type": "execute_result"
    }
   ],
   "source": [
    "np.random.random_sample((5,))"
   ]
  },
  {
   "cell_type": "markdown",
   "id": "676e466a-c7df-4987-a5fa-78f4b1a8d9a5",
   "metadata": {},
   "source": [
    "Random state permutation is another way to create random data. The name of the function is numpy.random.RandomState.permutation. This function takes an array or a value as dimensions to permutate or generate random data. [4]"
   ]
  },
  {
   "cell_type": "code",
   "execution_count": 6,
   "id": "2a317a9e-534b-4d37-a313-abc6a1fc723c",
   "metadata": {},
   "outputs": [
    {
     "data": {
      "text/plain": [
       "array([4, 0, 1, 2, 3])"
      ]
     },
     "execution_count": 6,
     "metadata": {},
     "output_type": "execute_result"
    }
   ],
   "source": [
    "np.random.permutation(5)"
   ]
  },
  {
   "cell_type": "code",
   "execution_count": 7,
   "id": "d1c5d73b-0691-4796-b54c-e1d0cb047e82",
   "metadata": {},
   "outputs": [
    {
     "data": {
      "text/plain": [
       "array([23, 17,  4,  5,  4])"
      ]
     },
     "execution_count": 7,
     "metadata": {},
     "output_type": "execute_result"
    }
   ],
   "source": [
    "np.random.permutation([4, 4, 5, 23, 17])"
   ]
  },
  {
   "cell_type": "code",
   "execution_count": 8,
   "id": "449d8585-bbf1-44bd-a911-445eda3621b6",
   "metadata": {},
   "outputs": [
    {
     "data": {
      "text/plain": [
       "array([[8, 9],\n",
       "       [6, 7],\n",
       "       [0, 1],\n",
       "       [4, 5],\n",
       "       [2, 3]])"
      ]
     },
     "execution_count": 8,
     "metadata": {},
     "output_type": "execute_result"
    }
   ],
   "source": [
    "arr = np.arange(10).reshape((5, 2))\n",
    "np.random.permutation(arr)"
   ]
  },
  {
   "cell_type": "markdown",
   "id": "c7c3f2b0-32ba-4626-ae42-7b83de941310",
   "metadata": {},
   "source": [
    "numpy.random.RandomState.permutation changes the order of data in a given array while numpy.random.RandomState.random_sample generates a uniformly distributed random data. They are both similiar in so far as the first one leaves the original permutation as is and returns a shuffled version while the second modifies a sequence."
   ]
  },
  {
   "cell_type": "markdown",
   "id": "f861e92a-1d90-4566-88f1-aa73676c29f1",
   "metadata": {},
   "source": [
    "## Distributions"
   ]
  },
  {
   "cell_type": "markdown",
   "id": "58782c86-e514-43c3-bfad-0faadcbf9b2c",
   "metadata": {},
   "source": [
    "#### Binominal Distribution\n",
    "\n",
    "    numpy.random.binomial(n, p, size=None)\n",
    "\n",
    "This function uses binomial distribution to select samples. Samples are taken from a bionomial distributuion with given parameters. n means number of trials/atttempts, p represents probability of succcess, and n must be an integer and greater or equal to 0. p must be in the interval of 0 to 1 [6]"
   ]
  },
  {
   "cell_type": "code",
   "execution_count": 12,
   "id": "1799022f-2d76-4ee3-a10e-3ec78b343847",
   "metadata": {},
   "outputs": [
    {
     "name": "stdout",
     "output_type": "stream",
     "text": [
      "[4 3 3 4 3 4 4 1 3 6 6 4 4 3 2 3 5 5 5 4 4 4 2 6 3 3 4 4 8 4 4 3 3 3 5 5 6\n",
      " 7 6 3 3 6 6 5 7 4 6 2 6 5 4 5 3 6 3 6 2 3 6 3 7 7 4 2 4 4 4 4 3 3 5 3 3 2\n",
      " 3 6 4 4 4 4 6 2 4 6 3 2 3 3 5 7 5 5 6 7 3 3 5 5 4 2]\n"
     ]
    }
   ],
   "source": [
    "# Example of Coin Tossing Game  8 turns for each game - a 100 games in total. \n",
    "\n",
    "n, p = 8, .5       # number of attempts, probability of success\n",
    "\n",
    "s = np.random.binomial(n, p, 100)  \n",
    "print (s)"
   ]
  },
  {
   "cell_type": "markdown",
   "id": "de68bcf8-e0a9-4da0-819a-be09897209ce",
   "metadata": {},
   "source": [
    "#### Chi Square Distribution \n",
    "\n",
    "    numpy.random.chisquare(df, size=None)\n",
    "    \n",
    "This function uses chi-square distribution to select samples. df represents independent random variables where they distributed uniformly with the mean 0 and variance is 1. Then they are squared and summed to obtain chi square."
   ]
  },
  {
   "cell_type": "code",
   "execution_count": 1,
   "id": "172c0135-c51e-4958-a46f-8d46f8827095",
   "metadata": {},
   "outputs": [
    {
     "ename": "NameError",
     "evalue": "name 'np' is not defined",
     "output_type": "error",
     "traceback": [
      "\u001b[1;31m---------------------------------------------------------------------------\u001b[0m",
      "\u001b[1;31mNameError\u001b[0m                                 Traceback (most recent call last)",
      "\u001b[1;32m<ipython-input-1-876683b15773>\u001b[0m in \u001b[0;36m<module>\u001b[1;34m\u001b[0m\n\u001b[1;32m----> 1\u001b[1;33m \u001b[0mnp\u001b[0m\u001b[1;33m.\u001b[0m\u001b[0mrandom\u001b[0m\u001b[1;33m.\u001b[0m\u001b[0mchisquare\u001b[0m\u001b[1;33m(\u001b[0m\u001b[1;36m6\u001b[0m\u001b[1;33m,\u001b[0m\u001b[1;36m9\u001b[0m\u001b[1;33m)\u001b[0m\u001b[1;33m\u001b[0m\u001b[1;33m\u001b[0m\u001b[0m\n\u001b[0m\u001b[0;32m      2\u001b[0m \u001b[0marray\u001b[0m\u001b[1;33m(\u001b[0m\u001b[1;33m[\u001b[0m \u001b[1;36m1.89920014\u001b[0m\u001b[1;33m,\u001b[0m  \u001b[1;36m9.00867716\u001b[0m\u001b[1;33m,\u001b[0m  \u001b[1;36m3.13710533\u001b[0m\u001b[1;33m,\u001b[0m  \u001b[1;36m5.62318272\u001b[0m\u001b[1;33m]\u001b[0m\u001b[1;33m)\u001b[0m\u001b[1;33m\u001b[0m\u001b[1;33m\u001b[0m\u001b[0m\n",
      "\u001b[1;31mNameError\u001b[0m: name 'np' is not defined"
     ]
    }
   ],
   "source": [
    "np.random.chisquare(6,9)\n",
    "array([ 1.89920014,  9.00867716,  3.13710533,  5.62318272])"
   ]
  },
  {
   "cell_type": "markdown",
   "id": "4cd2a3ed-a87f-4970-a39a-1d5777d8bf2d",
   "metadata": {},
   "source": [
    "#### Poissio Distribution "
   ]
  },
  {
   "cell_type": "markdown",
   "id": "c945a2f8-4c7f-4daf-9fdb-c75627aaa069",
   "metadata": {},
   "source": [
    "#### Uniform Distribution"
   ]
  },
  {
   "cell_type": "markdown",
   "id": "7edd0f25-4add-46fe-9f23-e1506ca0869a",
   "metadata": {},
   "source": [
    "#### Weibull Distribution"
   ]
  },
  {
   "cell_type": "markdown",
   "id": "03eb8490-3bf6-47fb-86e3-3e998b08a72c",
   "metadata": {},
   "source": [
    "## Seeds"
   ]
  },
  {
   "cell_type": "markdown",
   "id": "1f15a0f5-681f-424c-a658-e6116adec8c2",
   "metadata": {},
   "source": [
    "hey aren't truly random and if you analyze enough of them you will detect a pattern. *\n",
    "\n",
    "To make the number generator more random, you need to identify a starting position. This is what you call a 'seed'. The seed must be as random as possible. However,the number generator is still predictable overtime as apattern .\n",
    "."
   ]
  },
  {
   "cell_type": "markdown",
   "id": "dd5a2e22-da82-443e-9674-64b52c5b366c",
   "metadata": {},
   "source": [
    "## References\n",
    "\n",
    "\n",
    " 1.  https://numpy.org/doc/stable/reference/random/index.html\n",
    " 2. https://docs.scipy.org/doc/numpy-1.15.0/reference/generated/numpy.random.RandomState.rand.html\n",
    " 3. https://docs.scipy.org/doc/numpy-1.15.0/reference/generated/numpy.random.RandomState.random_sample.html\n",
    " 4. https://docs.scipy.org/doc/numpy-1.15.0/reference/generated/numpy.random.RandomState.permutation.html\n",
    " 5. https://stackoverflow.com/questions/1619627/what-does-seeding-mean\n",
    " 6. https://docs.scipy.org/doc/numpy-1.15.0/reference/generated/numpy.random.binomial.html\n",
    "\n"
   ]
  },
  {
   "cell_type": "code",
   "execution_count": null,
   "id": "6e48e581-af3f-4385-b7e7-e4348aaa2aa1",
   "metadata": {},
   "outputs": [],
   "source": []
  }
 ],
 "metadata": {
  "kernelspec": {
   "display_name": "Python 3",
   "language": "python",
   "name": "python3"
  },
  "language_info": {
   "codemirror_mode": {
    "name": "ipython",
    "version": 3
   },
   "file_extension": ".py",
   "mimetype": "text/x-python",
   "name": "python",
   "nbconvert_exporter": "python",
   "pygments_lexer": "ipython3",
   "version": "3.8.8"
  }
 },
 "nbformat": 4,
 "nbformat_minor": 5
}
