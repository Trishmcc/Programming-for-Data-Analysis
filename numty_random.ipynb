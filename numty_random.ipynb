{
 "cells": [
  {
   "cell_type": "markdown",
   "id": "2ea166b9-ac3c-4d2c-ba00-93165cdd1ef6",
   "metadata": {},
   "source": [
    "# My Project\n",
    "\n",
    "[My Documentation](https://numpy.org/doc/stable/reference/random/index.html)\n",
    "\n",
    "***"
   ]
  },
  {
   "cell_type": "code",
   "execution_count": 12,
   "id": "24a30e1f-638f-4e56-af6c-bb0e1a20a477",
   "metadata": {},
   "outputs": [],
   "source": [
    "# The reason for using numpy is to have Efficient numercial arrays\n",
    "import numpy as np\n",
    "# To plot data\n",
    "import matplotlib.pyplot as plt"
   ]
  },
  {
   "cell_type": "markdown",
   "id": "2066235d-f6a6-4b61-ac47-f726826f284e",
   "metadata": {},
   "source": [
    "<br>\n",
    "\n",
    "## numpy.random.normal\n",
    "\n",
    "https://numpy.org/doc/stable/reference/random/generated/numpy.random.normal.html\n",
    "    \n",
    "***"
   ]
  },
  {
   "cell_type": "code",
   "execution_count": null,
   "id": "26a43918-1338-46de-a59a-9f9445f196f5",
   "metadata": {},
   "outputs": [],
   "source": [
    "mu, sigma = 0, 0.1 # mean and standard deviation\n",
    "s = np.random.normal(mu, sigma, 1000)"
   ]
  },
  {
   "cell_type": "code",
   "execution_count": null,
   "id": "2e4f2413-d5f8-4b63-a36a-92504867f8f8",
   "metadata": {},
   "outputs": [],
   "source": [
    "s"
   ]
  },
  {
   "cell_type": "code",
   "execution_count": null,
   "id": "0ab6137e-8dbc-43bf-b4c9-310dedf14906",
   "metadata": {},
   "outputs": [],
   "source": [
    ">>> abs(mu - np.mean(s))"
   ]
  },
  {
   "cell_type": "markdown",
   "id": "cca3517b-e31e-4888-a406-2924a7bb7da0",
   "metadata": {},
   "source": [
    "# Changing the default figure size from 10, 5\n",
    "\n",
    "plt.rcParams['figure.figsize'] = [12, 8]"
   ]
  },
  {
   "cell_type": "code",
   "execution_count": null,
   "id": "0f3fea04-24b8-4088-84f1-3f5f5abc1544",
   "metadata": {},
   "outputs": [],
   "source": [
    "count, bins, ignored = plt.hist(s, 30, density=True)\n",
    "plt.plot(bins, 1/(sigma * np.sqrt(2 * np.pi)) *\n",
    "               np.exp( - (bins - mu)**2 / (2 * sigma**2) ),\n",
    "         linewidth=2, color='r')\n",
    "plt.show()"
   ]
  },
  {
   "cell_type": "code",
   "execution_count": null,
   "id": "ac0e33fb-50b5-4ded-a38e-de83b353512f",
   "metadata": {},
   "outputs": [],
   "source": []
  },
  {
   "cell_type": "code",
   "execution_count": null,
   "id": "ac35072c-9755-4390-8dcf-076eb39947de",
   "metadata": {},
   "outputs": [],
   "source": [
    "# Changing the default figure size from 10, 5\n",
    "\n",
    "plt.rcParams['figure.figsize'] = [12, 8]"
   ]
  },
  {
   "cell_type": "code",
   "execution_count": null,
   "id": "dc7ba487-d425-4764-a84b-3621f2694905",
   "metadata": {},
   "outputs": [],
   "source": []
  },
  {
   "cell_type": "markdown",
   "id": "c49a9c19-df79-429c-a95f-8c830cfbc1a9",
   "metadata": {},
   "source": [
    "<br>\n",
    "\n",
    "## Rolling Dice\n",
    "\n",
    "***"
   ]
  },
  {
   "cell_type": "markdown",
   "id": "d30e0699-d015-48a0-80bc-c8b212507464",
   "metadata": {},
   "source": [
    "## Roll a single dice\n",
    "\n",
    "https://numpy.org/doc/stable/reference/random/generated/numpy.random.randint.html"
   ]
  },
  {
   "cell_type": "code",
   "execution_count": null,
   "id": "c8ecf5a6-7220-4e7f-8590-2a9bd845d0ef",
   "metadata": {},
   "outputs": [],
   "source": [
    "runs = 1000"
   ]
  },
  {
   "cell_type": "code",
   "execution_count": 3,
   "id": "cc5582c7-4fac-4355-a988-b67bb1447346",
   "metadata": {},
   "outputs": [
    {
     "data": {
      "text/plain": [
       "1"
      ]
     },
     "execution_count": 3,
     "metadata": {},
     "output_type": "execute_result"
    }
   ],
   "source": [
    "# Pick a random integer between 1 (inclusive) and 7 (exclusive)\n",
    "np.random.randint(1, 7, runs)"
   ]
  },
  {
   "cell_type": "code",
   "execution_count": 4,
   "id": "c454188e-55f1-4b87-bee6-97921f34032b",
   "metadata": {},
   "outputs": [],
   "source": [
    "# Pick a random integer between 1 (inclusive) and 7 (exclusive)\n",
    "dice = np.random.randint(1, 7, 10000)"
   ]
  },
  {
   "cell_type": "code",
   "execution_count": 5,
   "id": "fa584e51-4f40-438f-9715-de6bd870b015",
   "metadata": {},
   "outputs": [
    {
     "name": "stdout",
     "output_type": "stream",
     "text": [
      "[6 2 6 1 4 5 1 6 3 6 3 5 3 2 5 4 2 6 4 3 4 3 6 5 6 4 2 2 2 4 4 1 1 4 6 2 4\n",
      " 1 5 1 1 5 4 6 5 5 3 2 2 6 4 1 1 6 4 3 5 2 1 2 2 1 6 6 2 2 5 5 6 2 2 4 4 3\n",
      " 1 2 1 3 4 2 2 4 3 4 4 5 2 1 6 2 3 1 4 6 2 3 1 6 2 5 4 1 2 2 1 3 2 3 4 4 2\n",
      " 6 2 2 6 1 2 5 2 2 1 5 6 3 6 4 6 4 1 2 6 6 3 1 3 4 6 1 5 3 4 4 3 4 5 4 4 6\n",
      " 1 4 3 5 1 1 4 5 5 1 5 6 5 5 6 3 1 4 2 1 3 4 6 3 6 3 1 1 3 3 6 6 3 2 4 1 2\n",
      " 4 1 3 2 3 5 5 1 6 6 1 5 1 4 6 1 3 4 5 4 1 6 6 4 1 3 5 1 1 1 4 4 5 1 6 3 6\n",
      " 5 6 2 4 2 1 4 3 2 2 5 6 2 1 3 5 1 6 5 2 1 4 4 4 4 1 6 5 3 2 3 3 1 1 5 5 6\n",
      " 5 4 4 2 5 3 5 1 5 2 2 6 5 3 5 5 3 2 4 3 1 4 3 3 4 4 6 3 2 3 1 4 6 3 2 3 2\n",
      " 1 5 2 5 4 2 5 4 4 1 3 5 2 4 1 3 3 2 6 1 3 3 2 1 5 2 4 5 6 4 2 5 5 3 3 4 1\n",
      " 1 5 2 2 3 4 6 5 2 4 5 6 3 6 4 1 3 2 1 1 5 5 1 2 6 4 3 3 5 1 2 6 1 6 4 2 5\n",
      " 4 1 6 6 5 5 2 1 2 5 1 6 2 4 3 2 6 4 1 5 1 5 2 1 5 6 1 5 5 1 6 3 5 3 5 3 6\n",
      " 5 1 2 2 6 4 3 3 3 5 5 5 3 4 3 4 2 5 3 3 4 3 3 5 3 5 5 6 2 5 6 6 3 1 4 2 4\n",
      " 6 1 3 5 1 6 6 4 3 6 1 4 5 5 6 4 3 1 5 1 3 2 6 2 4 5 6 2 4 2 6 1 2 2 5 2 5\n",
      " 2 1 6 6 5 5 2 2 4 6 6 1 1 2 3 3 3 3 4 5 3 6 2 1 6 3 6 3 5 4 4 1 6 5 4 5 3\n",
      " 4 2 6 1 3 1 2 2 4 3 2 2 3 5 2 3 3 4 2 6 3 5 5 1 6 2 4 1 4 1 2 1 2 3 2 5 3\n",
      " 3 6 6 5 3 3 1 6 4 2 6 5 3 1 3 4 2 1 6 1 4 5 6 1 4 6 1 1 4 3 2 3 5 5 5 6 4\n",
      " 4 2 4 5 3 6 6 3 6 6 4 5 3 1 1 3 6 6 5 3 6 2 6 3 2 6 6 3 1 6 1 6 4 4 6 1 6\n",
      " 3 1 1 3 3 1 1 1 6 1 4 2 1 1 4 4 4 5 2 2 1 4 2 5 1 4 3 4 2 3 4 1 1 6 3 2 1\n",
      " 4 6 5 2 6 6 4 6 6 4 4 5 5 1 6 6 1 1 4 3 1 2 2 1 6 1 1 3 5 6 1 3 3 1 4 1 3\n",
      " 1 4 5 3 4 5 6 5 4 3 1 5 4 6 3 3 6 4 5 1 3 4 6 6 3 2 3 1 3 2 6 2 1 4 4 3 6\n",
      " 4 5 1 3 2 1 5 2 2 6 2 1 6 1 6 3 6 2 3 4 1 6 5 6 1 4 3 6 4 4 1 2 1 2 1 6 5\n",
      " 2 5 1 3 5 6 3 2 4 6 5 2 2 2 5 5 1 4 6 4 5 5 3 2 6 6 2 6 5 4 5 4 2 4 2 2 5\n",
      " 6 5 6 4 1 2 2 6 1 6 1 1 4 2 2 3 6 6 6 2 3 6 4 5 1 4 6 4 2 3 2 1 1 5 2 4 2\n",
      " 2 6 6 1 6 4 1 5 6 6 2 1 2 6 6 6 2 5 6 4 3 2 3 3 4 6 5 3 3 4 1 2 4 2 4 2 6\n",
      " 1 5 4 2 2 3 6 6 3 1 5 3 5 6 5 2 1 5 6 1 5 3 6 2 6 4 1 1 1 1 3 2 4 1 5 2 6\n",
      " 1 5 4 5 1 4 2 5 5 6 3 6 6 2 3 2 5 4 4 5 4 5 3 6 3 6 4 6 1 2 6 4 1 3 2 6 4\n",
      " 2 3 6 4 1 6 4 5 6 3 6 2 1 2 1 5 4 3 1 5 6 1 4 1 3 1 6 6 1 5 4 4 4 2 3 5 6\n",
      " 5]\n"
     ]
    }
   ],
   "source": [
    "# See the value\n",
    "print(dice)"
   ]
  },
  {
   "cell_type": "markdown",
   "id": "3960887d-1a28-4713-a95a-1dacd38870b3",
   "metadata": {},
   "source": [
    "<br>\n",
    "\n",
    "# Plot the dice rolls\n",
    "\n",
    "https://numpy.org/doc/stable/reference/generated/numpy.unique.html"
   ]
  },
  {
   "cell_type": "code",
   "execution_count": 9,
   "id": "52ba3872-011d-4345-96e2-e5e448fb2c11",
   "metadata": {},
   "outputs": [
    {
     "data": {
      "text/plain": [
       "(array([1, 2, 3, 4, 5, 6]), array([176, 165, 158, 165, 154, 182], dtype=int64))"
      ]
     },
     "execution_count": 9,
     "metadata": {},
     "output_type": "execute_result"
    }
   ],
   "source": [
    "# Count the number of times each face appears\n",
    "faces, counts = np.unique(dice, return_counts=True)\n",
    "faces, counts"
   ]
  },
  {
   "cell_type": "code",
   "execution_count": 16,
   "id": "98e976d7-a561-4812-b5b2-7b4f0bb849bd",
   "metadata": {},
   "outputs": [
    {
     "data": {
      "image/png": "[encoded data removed]",
      "text/plain": [
       "<Figure size 432x288 with 1 Axes>"
      ]
     },
     "metadata": {
      "needs_background": "light"
     },
     "output_type": "display_data"
    }
   ],
   "source": [
    "# Create a new plot\n",
    "fig, ax = plt.subplots()\n",
    "# Bar chart\n",
    "ax.barh(faces, counts)\n",
    "# Set axis labes\n",
    "ax.set_ylabel('Face')\n",
    "ax.set_xlabel('Count');"
   ]
  },
  {
   "cell_type": "markdown",
   "id": "dddec4c7-0073-4e1c-ba13-d34f95d9d9ef",
   "metadata": {},
   "source": [
    "<br>\n",
    "\n",
    "# Roll more than one dice\n",
    "\n",
    "***"
   ]
  },
  {
   "cell_type": "code",
   "execution_count": 17,
   "id": "313224d4-a632-4e97-9fbe-72beceeef4e3",
   "metadata": {},
   "outputs": [
    {
     "data": {
      "text/plain": [
       "array([[5, 1],\n",
       "       [1, 1],\n",
       "       [2, 4],\n",
       "       ...,\n",
       "       [3, 5],\n",
       "       [6, 5],\n",
       "       [5, 2]])"
      ]
     },
     "execution_count": 17,
     "metadata": {},
     "output_type": "execute_result"
    }
   ],
   "source": [
    "# The number of dice to roll in each turn. nodice means number of dice\n",
    "nodice = 2\n",
    "\n",
    "# The number of turns\n",
    "noturns = 10000\n",
    "\n",
    "# Roll the dice\n",
    "dice = np.random.randint(1, 7, (noturns, nodice))\n",
    "\n",
    "# Have a look\n",
    "dice"
   ]
  },
  {
   "cell_type": "code",
   "execution_count": 18,
   "id": "76daa39c-4b20-4d04-a3c6-ee8f7c02f65d",
   "metadata": {},
   "outputs": [
    {
     "data": {
      "text/plain": [
       "array([ 6,  2,  6, ...,  8, 11,  7])"
      ]
     },
     "execution_count": 18,
     "metadata": {},
     "output_type": "execute_result"
    }
   ],
   "source": [
    "# Sum the faces of the dice\n",
    "totals = np.sum(dice, axis=1)\n",
    "# Have a look\n",
    "totals"
   ]
  },
  {
   "cell_type": "code",
   "execution_count": null,
   "id": "724e399d-e708-4b14-b7e1-ee21663a24b5",
   "metadata": {},
   "outputs": [],
   "source": []
  },
  {
   "cell_type": "code",
   "execution_count": null,
   "id": "a45690b6-fa6d-42b1-8107-fbd5ffe938fb",
   "metadata": {},
   "outputs": [],
   "source": []
  },
  {
   "cell_type": "markdown",
   "id": "27d03364-985b-41ea-9399-c3a43315bf8c",
   "metadata": {},
   "source": [
    "## References:\n",
    "\n",
    "- [1] https://numpy.org/doc/stable/reference/random/index.html\n",
    "- [2] https://realpython.com/python-random/\n",
    "- [3] https://www.datacamp.com/community/tutorials/numpy-random\n",
    "- [4] https://www.w3schools.com/python/numpy/numpy_random.asp\n",
    "- [5] https://numpy.org/doc/stable/reference/random/generated/numpy.random.normal.html\n",
    "- [6] https://towardsdatascience.com/stop-using-numpy-random-seed-581a9972805f\n",
    "- [7] https://www.python.org/dev/peps/pep-0008/\n",
    "- [8] https://stackoverflow.com/questions/36367986/how-to-make-inline-plots-in-jupyter-notebook-larger\n",
    "- [9] https://matplotlib.org/stable/gallery/style_sheets/style_sheets_reference.html\n",
    "- [10] https://www.dataquest.io/blog/jupyter-notebook-tips-tricks-shortcuts/\n",
    "- [11] https://jupyter.org/documentation\n",
    "- [12[ https://nbviewer.jupyter.org/\n",
    "- [13] https://nbviewer.jupyter.org/gist/rpmuller/5920182\n",
    "- [14] https://mybinder.org/"
   ]
  },
  {
   "cell_type": "markdown",
   "id": "efdbe82d-c484-46d8-9fbf-3e7a24886b8d",
   "metadata": {},
   "source": [
    "***\n",
    "\n",
    "## The End"
   ]
  },
  {
   "cell_type": "code",
   "execution_count": null,
   "id": "ca5da044-41fe-4cfe-a439-6d2a228595bc",
   "metadata": {},
   "outputs": [],
   "source": []
  }
 ],
 "metadata": {
  "kernelspec": {
   "display_name": "Python 3",
   "language": "python",
   "name": "python3"
  },
  "language_info": {
   "codemirror_mode": {
    "name": "ipython",
    "version": 3
   },
   "file_extension": ".py",
   "mimetype": "text/x-python",
   "name": "python",
   "nbconvert_exporter": "python",
   "pygments_lexer": "ipython3",
   "version": "3.8.8"
  }
 },
 "nbformat": 4,
 "nbformat_minor": 5
}
