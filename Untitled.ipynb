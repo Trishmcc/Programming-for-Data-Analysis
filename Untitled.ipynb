{
 "cells": [
  {
   "cell_type": "markdown",
   "id": "0f0027b1-6e90-426b-b878-efc4371e5069",
   "metadata": {},
   "source": [
    "# The Numpy-random package"
   ]
  },
  {
   "cell_type": "code",
   "execution_count": 8,
   "id": "0c42e102-d291-4abf-bec7-435c3ce8bde6",
   "metadata": {},
   "outputs": [],
   "source": [
    "import numpy as np\n",
    "import matplotlib.pyplot as plt"
   ]
  },
  {
   "cell_type": "code",
   "execution_count": 4,
   "id": "3700de4a-95d2-43f1-8b68-b3888f174bb8",
   "metadata": {},
   "outputs": [],
   "source": [
    "rng = np.random.default_rng()"
   ]
  },
  {
   "cell_type": "code",
   "execution_count": 6,
   "id": "389e8ccd-fdee-4760-ac77-cfaae3615c9f",
   "metadata": {},
   "outputs": [
    {
     "data": {
      "text/plain": [
       "array([1, 1, 0, 0, 1, 1, 0, 1, 1, 0], dtype=int64)"
      ]
     },
     "execution_count": 6,
     "metadata": {},
     "output_type": "execute_result"
    }
   ],
   "source": [
    "rng.integers(2, size=10)"
   ]
  },
  {
   "cell_type": "code",
   "execution_count": 12,
   "id": "168641b9-6015-4348-97fb-7c9b0641b76c",
   "metadata": {},
   "outputs": [],
   "source": [
    "x = rng.integers(100, size=10000)"
   ]
  },
  {
   "cell_type": "code",
   "execution_count": 14,
   "id": "7cc06f87-9d66-4568-9108-d15ccbb97d34",
   "metadata": {},
   "outputs": [
    {
     "data": {
      "text/plain": [
       "array([18,  7, 39, ..., 39, 69, 11], dtype=int64)"
      ]
     },
     "execution_count": 14,
     "metadata": {},
     "output_type": "execute_result"
    }
   ],
   "source": [
    "x"
   ]
  },
  {
   "cell_type": "code",
   "execution_count": 16,
   "id": "2e0fabb1-ce47-44f8-9bb8-f3e1260fb6c7",
   "metadata": {},
   "outputs": [
    {
     "data": {
      "text/plain": [
       "(array([1004.,  999., 1027., 1042.,  986.,  946.,  988.,  993.,  942.,\n",
       "        1073.]),\n",
       " array([ 0. ,  9.9, 19.8, 29.7, 39.6, 49.5, 59.4, 69.3, 79.2, 89.1, 99. ]),\n",
       " <BarContainer object of 10 artists>)"
      ]
     },
     "execution_count": 16,
     "metadata": {},
     "output_type": "execute_result"
    },
    {
     "data": {
      "image/png": "[encoded data removed]",
      "text/plain": [
       "<Figure size 432x288 with 1 Axes>"
      ]
     },
     "metadata": {
      "needs_background": "light"
     },
     "output_type": "display_data"
    }
   ],
   "source": [
    "plt.hist(x)"
   ]
  },
  {
   "cell_type": "code",
   "execution_count": 17,
   "id": "eb2c45fc-ebab-4162-9af8-774a1d650c13",
   "metadata": {},
   "outputs": [
    {
     "data": {
      "text/plain": [
       "array([-3.01224757e-01, -1.03496357e-01, -9.76972748e-01, -8.35435317e-01,\n",
       "       -3.44525014e-01, -9.02565266e-01, -6.90177983e-01, -7.70661474e-01,\n",
       "       -9.51999462e-01, -7.76547163e-01, -4.44786028e-01, -5.45427533e-01,\n",
       "       -5.14498339e-01, -2.20430344e-01, -7.49888208e-01, -6.98572206e-01,\n",
       "       -4.84001170e-01, -8.68564289e-01, -4.72370392e-01, -1.67985267e-01,\n",
       "       -6.82300142e-01, -5.13812687e-01, -9.81320530e-01, -2.07444613e-01,\n",
       "       -6.14429420e-01, -5.27377434e-01, -8.30842892e-01, -8.81106424e-01,\n",
       "       -2.18815875e-01, -2.96067094e-01, -6.01954424e-02, -1.93070951e-01,\n",
       "       -4.09751817e-01, -6.38043866e-01, -7.74472460e-01, -6.96858584e-01,\n",
       "       -7.78392673e-01, -4.34709291e-01, -5.15076876e-02, -4.26377164e-01,\n",
       "       -4.63953973e-01, -6.22438548e-01, -9.52625572e-01, -9.92428683e-02,\n",
       "       -5.12389071e-04, -1.55758323e-01, -3.37450831e-01, -9.56065712e-01,\n",
       "       -7.38680177e-01, -8.72232475e-01, -6.93641074e-01, -8.34906061e-01,\n",
       "       -8.50998448e-01, -5.65729589e-01, -9.35151600e-01, -3.02438607e-01,\n",
       "       -9.83449230e-01, -3.23845435e-01, -6.45993058e-01, -3.54732414e-01,\n",
       "       -9.82863142e-01, -1.34875160e-01, -5.09247553e-01, -8.30048141e-01,\n",
       "       -8.61383305e-01, -2.52806647e-01, -5.84573774e-01, -7.13266050e-03,\n",
       "       -1.25155310e-01, -6.59031262e-01, -6.40531302e-01, -5.98112106e-01,\n",
       "       -9.74645663e-01, -1.49491211e-01, -9.34999937e-01, -9.58726989e-01,\n",
       "       -2.56583416e-01, -9.15204982e-01, -5.48310348e-01, -3.85279231e-01,\n",
       "       -9.17581106e-01, -5.59664298e-01, -1.90181726e-02, -8.23411687e-01,\n",
       "       -3.79594791e-01, -1.33333052e-01, -3.85897526e-01, -6.97195510e-01,\n",
       "       -1.27162997e-01, -5.57722912e-01, -2.47045938e-01, -7.77714944e-02,\n",
       "       -9.31588889e-01, -4.94100130e-01, -2.42888510e-01, -7.37314255e-01,\n",
       "       -4.51874887e-01, -8.64787989e-01, -4.16555843e-01, -9.56560752e-01,\n",
       "       -4.18582508e-02, -9.53365834e-01, -1.65478911e-01, -7.61612184e-01,\n",
       "       -2.28000143e-01, -7.66132587e-01, -5.08206671e-01, -9.04892492e-01,\n",
       "       -6.82426071e-01, -9.77780489e-01, -4.63292488e-01, -6.38847864e-01,\n",
       "       -5.26872271e-01, -4.85494222e-01, -4.18214144e-02, -6.18828491e-01,\n",
       "       -2.75222769e-01, -5.35314942e-01, -5.00206902e-03, -6.67500897e-02,\n",
       "       -1.68849091e-01, -1.19356684e-01, -1.52871356e-01, -9.75077533e-01,\n",
       "       -8.10465779e-01, -2.50443962e-01, -8.86072971e-02, -5.71322465e-01,\n",
       "       -4.00243238e-01, -9.44455203e-01, -6.01437199e-01, -3.65031342e-01,\n",
       "       -8.52477388e-01, -8.47994360e-01, -7.43294783e-01, -6.09031126e-01,\n",
       "       -9.84200918e-02, -1.16228123e-01, -4.60410579e-01, -1.40930629e-01,\n",
       "       -2.07946213e-01, -2.52734494e-01, -7.40835025e-01, -9.14098137e-01,\n",
       "       -7.58024587e-01, -3.95265001e-01, -9.66572882e-01, -7.03587414e-01,\n",
       "       -9.05154835e-01, -4.28362626e-01, -2.62818807e-01, -9.71889616e-01,\n",
       "       -5.78663505e-01, -3.44525491e-01, -4.74160638e-02, -6.42077221e-01,\n",
       "       -9.75067152e-01, -3.18438986e-01, -9.90476360e-02, -4.76345876e-01,\n",
       "       -3.80454635e-01, -1.30263157e-01, -2.90524796e-01, -8.70103803e-01,\n",
       "       -9.87635358e-01, -1.15352745e-01, -2.23914215e-01, -4.97733518e-01,\n",
       "       -5.32738973e-01, -8.33307165e-02, -2.65180788e-02, -4.45569997e-02,\n",
       "       -4.10303082e-01, -7.34184119e-01, -2.76294497e-01, -5.01013459e-01,\n",
       "       -3.69119604e-01, -7.90966428e-01, -1.33589837e-01, -2.09463301e-01,\n",
       "       -9.69364359e-01, -7.19915984e-01, -7.07390871e-02, -7.86993133e-01,\n",
       "       -6.69326994e-01, -3.33338164e-01, -2.26419261e-01, -9.01197539e-01,\n",
       "       -3.54539310e-01, -7.36087085e-02, -5.42298019e-01, -3.74361863e-01,\n",
       "       -6.75645626e-01, -2.34171148e-02, -9.00967268e-01, -8.33773521e-01,\n",
       "       -8.69096667e-01, -5.11073742e-01, -3.72830076e-01, -9.95561875e-01,\n",
       "       -7.64241742e-01, -3.33893478e-01, -7.55091727e-01, -6.09228192e-01,\n",
       "       -6.78293289e-01, -7.49312843e-01, -2.18167320e-01, -1.88288061e-01,\n",
       "       -6.77474766e-01, -1.01860975e-01, -9.60557322e-01, -3.01522681e-02,\n",
       "       -8.87484649e-01, -8.76858280e-01, -4.36727702e-01, -8.35711194e-01,\n",
       "       -5.77258922e-01, -9.68746187e-01, -4.04556321e-05, -8.22794143e-01,\n",
       "       -2.99833725e-01, -9.94746804e-01, -7.72284748e-01, -6.01722975e-01,\n",
       "       -1.82993217e-02, -3.82829021e-01, -5.38441655e-02, -6.32059936e-02,\n",
       "       -8.50367507e-01, -7.72099886e-01, -6.15204597e-01, -6.80737680e-01,\n",
       "       -5.44337273e-01, -7.93193086e-01, -6.67128460e-01, -3.60882388e-01,\n",
       "       -2.85185284e-01, -5.04057666e-01, -5.61077700e-01, -6.91200234e-01,\n",
       "       -4.43743897e-01, -2.19465461e-01, -6.86536805e-01, -7.86988654e-01,\n",
       "       -6.10773505e-01, -2.81073524e-01, -8.16167617e-01, -5.26608576e-01,\n",
       "       -8.51958728e-01, -6.82089969e-01, -2.64958896e-01, -9.86993904e-01,\n",
       "       -8.12066220e-01, -7.22790732e-01, -6.46584171e-01, -7.16761213e-01,\n",
       "       -7.20320827e-01, -7.50352487e-01, -5.91499029e-01, -5.51572857e-02,\n",
       "       -2.20237547e-01, -2.65402759e-01, -5.78467464e-01, -9.25331058e-01,\n",
       "       -5.11574862e-01, -1.69285691e-01, -1.74743751e-01, -1.21518733e-01,\n",
       "       -9.31643426e-01, -1.28379716e-01, -2.01504517e-01, -6.14063968e-01,\n",
       "       -6.97604058e-01, -2.03733271e-01, -8.53350694e-01, -4.27643331e-01,\n",
       "       -3.11993106e-01, -5.82686185e-01, -2.25332546e-01, -8.08002526e-01,\n",
       "       -2.26838346e-01, -8.90528290e-01, -2.54671219e-01, -6.48025864e-01,\n",
       "       -8.93290973e-01, -8.12707687e-01, -8.51538583e-02, -9.61662764e-01,\n",
       "       -1.47559325e-01, -3.76059154e-01, -6.93913736e-01, -3.52487335e-02,\n",
       "       -4.74750880e-01, -3.71844746e-01, -9.51361530e-01, -9.86657622e-01,\n",
       "       -6.32121427e-01, -4.65919773e-01, -6.19422402e-01, -7.52289046e-01,\n",
       "       -2.66443276e-01, -5.27629795e-01, -5.24854442e-01, -7.71516269e-01,\n",
       "       -7.44755327e-01, -6.18121728e-01, -1.26085427e-01, -7.82727268e-01,\n",
       "       -6.64561892e-01, -3.44919211e-01, -1.72009161e-01, -4.80787603e-01,\n",
       "       -4.97351885e-01, -3.56423204e-01, -8.58998253e-01, -9.80997843e-01,\n",
       "       -4.10237735e-02, -5.52896372e-01, -6.34079693e-02, -8.11003881e-01,\n",
       "       -1.72675356e-01, -1.76986081e-01, -3.92303105e-01, -7.90295811e-01,\n",
       "       -1.04350829e-01, -7.61648149e-01, -9.30618933e-01, -4.74691318e-03,\n",
       "       -7.18169464e-01, -7.70209243e-01, -9.03568626e-01, -9.92059743e-01,\n",
       "       -7.33447989e-01, -7.60123965e-01, -6.70003830e-03, -4.47258196e-01,\n",
       "       -3.61087425e-01, -6.37770670e-01, -9.17118184e-01, -8.65619361e-01,\n",
       "       -7.05374200e-01, -8.71018677e-01, -3.51962713e-01, -8.58617605e-01,\n",
       "       -3.59754958e-03, -7.41092796e-02, -3.74847235e-02, -7.84806445e-01,\n",
       "       -3.32997160e-01, -7.90690109e-01, -8.54449905e-01, -5.94702094e-01,\n",
       "       -1.67872160e-01, -4.53209165e-01, -1.67905060e-01, -4.54894914e-01,\n",
       "       -3.21205562e-01, -6.14944510e-01, -8.08113865e-01, -5.29257460e-01,\n",
       "       -7.63419348e-01, -5.68481506e-01, -5.06845217e-01, -9.54050094e-02,\n",
       "       -2.99787595e-01, -2.36314487e-01, -6.60891563e-01, -4.13013078e-02,\n",
       "       -7.33015589e-01, -4.62876432e-01, -5.72827274e-01, -4.05546809e-01,\n",
       "       -2.21680910e-01, -6.55168672e-01, -3.43561252e-02, -3.75192976e-01,\n",
       "       -6.67387419e-01, -4.00727829e-01, -8.70513550e-01, -4.97503454e-01,\n",
       "       -2.87700693e-01, -7.28815660e-01, -4.68451900e-01, -8.30795575e-01,\n",
       "       -8.06884897e-01, -4.31333588e-01, -9.10373799e-01, -9.09698501e-01,\n",
       "       -5.64740406e-01, -9.83059828e-01, -1.92973535e-01, -4.71153248e-01,\n",
       "       -3.96899365e-01, -1.11336111e-01, -9.88479726e-01, -6.91134276e-01,\n",
       "       -4.71552643e-01, -3.65170983e-01, -3.60926451e-02, -8.19486202e-01,\n",
       "       -9.66393991e-01, -6.02313833e-01, -8.86188495e-03, -6.19008590e-01,\n",
       "       -1.25992917e-01, -9.42707306e-01, -8.27889507e-01, -5.98980101e-01,\n",
       "       -5.49663330e-01, -1.62906180e-01, -3.05764757e-01, -3.53239299e-01,\n",
       "       -4.86374329e-01, -6.00933547e-01, -3.11131257e-01, -9.00289026e-01,\n",
       "       -8.94026001e-02, -2.04941354e-01, -1.91351058e-01, -1.76601556e-01,\n",
       "       -4.02448058e-02, -4.40452329e-01, -3.17414057e-01, -9.54627100e-01,\n",
       "       -8.48630132e-01, -2.22002362e-01, -5.45472628e-01, -4.64096651e-01,\n",
       "       -2.52471248e-01, -7.36202711e-01, -9.21846890e-01, -7.62987086e-01,\n",
       "       -7.68510024e-01, -4.07901574e-02, -7.12023800e-01, -5.15025959e-01,\n",
       "       -9.55473668e-01, -1.92920536e-01, -5.22528225e-01, -5.17880754e-01,\n",
       "       -6.94416032e-01, -9.64592930e-01, -8.32661656e-01, -6.75440852e-01,\n",
       "       -1.14521880e-01, -1.70953873e-01, -2.47770608e-01, -7.28235415e-01,\n",
       "       -4.06489815e-01, -7.68906714e-01, -6.52759493e-01, -1.27895006e-01,\n",
       "       -3.00577354e-01, -5.32726683e-01, -9.75476079e-01, -4.96170426e-02,\n",
       "       -9.22271445e-01, -7.67958077e-01, -2.00504112e-01, -3.69963886e-01,\n",
       "       -9.69776274e-01, -8.80880998e-01, -7.58706450e-01, -8.96446545e-01,\n",
       "       -3.34828731e-01, -1.58835803e-01, -9.52553716e-01, -6.76732752e-01,\n",
       "       -2.83006233e-01, -7.14688936e-01, -3.42857984e-01, -4.58144285e-01,\n",
       "       -8.95564634e-02, -1.83059684e-01, -3.94496381e-01, -6.97487352e-01,\n",
       "       -8.91601813e-01, -4.67061232e-01, -7.31367323e-01, -8.49569655e-01,\n",
       "       -1.52640295e-02, -7.30346091e-01, -5.37887738e-01, -5.35453122e-01,\n",
       "       -4.12208352e-01, -2.50775543e-01, -8.42602879e-01, -4.61383969e-01,\n",
       "       -2.69108035e-01, -6.56936319e-01, -3.23732433e-01, -2.28299558e-04,\n",
       "       -8.23391235e-01, -9.41800202e-01, -7.40535012e-01, -8.20059904e-01,\n",
       "       -7.41498683e-01, -3.65361343e-01, -9.97615110e-01, -3.57761288e-01,\n",
       "       -8.86036349e-01, -8.83310253e-01, -9.43764268e-01, -7.29002874e-01,\n",
       "       -8.06015584e-01, -2.35929299e-02, -1.06037034e-01, -1.04355301e-01,\n",
       "       -3.12011429e-01, -4.24480920e-01, -6.95027462e-01, -6.90013515e-01,\n",
       "       -4.60013879e-01, -7.10618126e-01, -2.76426026e-01, -6.39649973e-01,\n",
       "       -6.85743499e-01, -7.30845280e-01, -7.91316619e-01, -7.23869123e-02,\n",
       "       -7.93752979e-01, -1.11750446e-01, -2.03259507e-01, -7.37215149e-01,\n",
       "       -1.66822391e-01, -7.39810535e-01, -4.96711773e-02, -8.48708929e-01,\n",
       "       -3.71198847e-01, -3.52730582e-01, -7.91255396e-01, -2.62343352e-01,\n",
       "       -5.26907825e-01, -6.62362932e-01, -5.76667535e-01, -6.95798871e-01,\n",
       "       -7.71824990e-01, -7.06662540e-02, -3.36317107e-01, -6.20786168e-01,\n",
       "       -5.03744884e-01, -9.41709248e-01, -7.51990680e-02, -5.53348894e-01,\n",
       "       -4.14244989e-01, -9.80549051e-01, -4.08727608e-01, -3.48112239e-01,\n",
       "       -8.42850440e-01, -9.45995248e-01, -7.65691745e-01, -9.69240072e-01,\n",
       "       -6.01080326e-02, -6.97974753e-01, -9.91666410e-01, -6.46930218e-01,\n",
       "       -4.58662373e-01, -3.96567066e-03, -2.05039308e-01, -1.85749687e-02,\n",
       "       -7.57491917e-01, -2.17443699e-01, -2.33865131e-01, -9.19510259e-01,\n",
       "       -5.54531957e-01, -8.67995577e-01, -5.21099330e-01, -4.25411475e-01,\n",
       "       -7.89298686e-01, -9.60106855e-01, -3.31580251e-01, -1.24219548e-01,\n",
       "       -3.89739856e-01, -8.09398517e-01, -3.34708731e-01, -3.84549451e-01,\n",
       "       -7.99413897e-01, -1.63819802e-01, -8.76919723e-01, -6.29751377e-01,\n",
       "       -4.67924020e-01, -9.24313314e-01, -2.20905987e-01, -2.06140433e-01,\n",
       "       -7.29809737e-01, -5.42982648e-01, -6.49542619e-01, -2.54163099e-01,\n",
       "       -9.88277744e-01, -5.50328701e-01, -6.47618247e-01, -3.87308175e-01,\n",
       "       -3.15394493e-01, -7.68862846e-01, -7.88548644e-01, -7.87598140e-01,\n",
       "       -1.77164585e-01, -9.52808205e-01, -7.13376027e-01, -6.50730660e-01,\n",
       "       -3.06997512e-01, -9.32518416e-01, -1.11463547e-01, -9.97125184e-01,\n",
       "       -1.22450049e-01, -3.07631780e-02, -1.38041797e-01, -6.57893101e-01,\n",
       "       -8.66533332e-01, -9.32653241e-01, -9.40261444e-01, -8.57698714e-01,\n",
       "       -6.22539313e-01, -4.16295874e-01, -1.38964690e-01, -3.08496154e-01,\n",
       "       -5.45566786e-01, -8.21060704e-01, -9.94349210e-01, -7.99835373e-01,\n",
       "       -9.48298664e-01, -4.91112439e-01, -4.39711249e-02, -7.29194267e-01,\n",
       "       -4.56894736e-01, -4.16932389e-01, -1.96743188e-01, -9.59431683e-01,\n",
       "       -2.26642324e-02, -9.14440056e-01, -7.73921433e-01, -3.55131498e-03,\n",
       "       -5.67624251e-01, -2.06040909e-01, -4.44672006e-01, -1.24682126e-01,\n",
       "       -7.93254304e-01, -7.62102656e-01, -7.98497244e-01, -4.22050712e-01,\n",
       "       -2.55817630e-01, -7.62009041e-01, -5.17015692e-01, -5.88933353e-01,\n",
       "       -1.40242540e-01, -7.45202825e-01, -9.62525902e-01, -6.13304828e-02,\n",
       "       -1.78352503e-01, -7.55666638e-01, -2.62930862e-01, -5.76694354e-01,\n",
       "       -6.76803324e-01, -2.57353280e-01, -8.00611290e-01, -8.69569832e-01,\n",
       "       -5.41336455e-01, -4.64811111e-01, -9.22530115e-01, -2.34286369e-01,\n",
       "       -2.16412159e-01, -5.13580147e-01, -1.89773719e-02, -4.61240491e-01,\n",
       "       -9.03019951e-02, -9.25255346e-01, -7.53171706e-01, -2.93556334e-01,\n",
       "       -4.24262229e-01, -3.06859963e-01, -4.25050619e-02, -6.33457427e-01,\n",
       "       -8.97504664e-01, -2.96406816e-01, -9.64096129e-01, -1.12565515e-01,\n",
       "       -7.35627376e-01, -2.64048720e-01, -9.28979176e-01, -9.48957689e-01,\n",
       "       -7.65771466e-01, -6.30108331e-01, -9.18599192e-01, -1.38734397e-01,\n",
       "       -7.40814306e-01, -6.07768688e-01, -6.75505593e-01, -1.75067542e-01,\n",
       "       -6.27433410e-01, -3.85390082e-01, -8.31698535e-01, -5.67659359e-01,\n",
       "       -1.10145404e-02, -9.09420290e-01, -9.34125066e-01, -8.81954258e-01,\n",
       "       -3.82195544e-01, -5.48299610e-01, -2.62342355e-01, -4.09863818e-01,\n",
       "       -6.63559831e-01, -2.19143185e-01, -8.56328570e-01, -1.86885273e-01,\n",
       "       -3.65046169e-01, -9.59347993e-02, -5.62882195e-01, -5.91035425e-01,\n",
       "       -3.57799236e-01, -5.59470204e-01, -5.69469881e-01, -3.75269260e-01,\n",
       "       -3.79086427e-01, -5.29754025e-01, -3.80528997e-02, -8.90213673e-02,\n",
       "       -6.13377442e-01, -9.65035011e-01, -9.44013013e-01, -8.19404261e-01,\n",
       "       -2.87955848e-01, -6.22842264e-01, -7.93313325e-01, -5.09535223e-01,\n",
       "       -1.41199541e-02, -2.58279623e-01, -2.14627602e-01, -8.98824855e-01,\n",
       "       -4.53437958e-01, -6.87725105e-01, -4.48386731e-01, -9.86117135e-01,\n",
       "       -8.66581600e-01, -1.00773130e-01, -5.26407458e-01, -7.25238145e-01,\n",
       "       -9.56514051e-01, -6.42980072e-01, -5.52446550e-01, -3.08673630e-01,\n",
       "       -7.64521507e-01, -4.01185285e-01, -9.51905269e-01, -2.85786341e-01,\n",
       "       -2.84403392e-01, -9.02908263e-01, -6.27446964e-01, -8.58622491e-01,\n",
       "       -3.75928293e-01, -4.93381685e-01, -7.82871897e-01, -8.78659155e-01,\n",
       "       -4.58318403e-01, -8.36772130e-01, -5.33121711e-01, -4.27238052e-01,\n",
       "       -8.76304750e-02, -8.96312246e-01, -8.39338476e-01, -8.88662136e-01,\n",
       "       -5.49323692e-01, -5.36465530e-01, -6.80704486e-03, -3.26495698e-01,\n",
       "       -4.58211388e-01, -2.63921694e-01, -5.18335406e-01, -2.37230171e-01,\n",
       "       -9.36060849e-01, -4.65518976e-01, -3.45845168e-01, -9.61733804e-01,\n",
       "       -1.95076730e-01, -5.57937703e-01, -2.28483976e-01, -1.19267553e-01,\n",
       "       -9.19662056e-01, -8.75281809e-01, -5.15952878e-01, -5.71733757e-01,\n",
       "       -1.47459544e-01, -5.97705410e-01, -9.71957788e-02, -3.42835116e-01,\n",
       "       -9.07985849e-01, -6.22891631e-02, -7.74228243e-01, -7.15398876e-01,\n",
       "       -6.57879333e-01, -3.54949637e-01, -3.66246774e-01, -6.80183576e-01,\n",
       "       -2.54866803e-01, -7.75234823e-01, -1.04250829e-01, -1.08010416e-01,\n",
       "       -9.93974889e-01, -1.25760769e-01, -5.52593841e-01, -7.85328892e-01,\n",
       "       -2.13242912e-01, -5.78126178e-01, -9.47705688e-01, -5.52258560e-01,\n",
       "       -2.50079527e-02, -4.04872568e-01, -6.92562174e-01, -4.68322749e-01,\n",
       "       -8.66707925e-01, -4.96789596e-01, -6.47505961e-01, -8.78405276e-01,\n",
       "       -5.95182278e-01, -5.40188207e-01, -1.38621111e-02, -6.03980315e-01,\n",
       "       -2.33348506e-01, -2.93425851e-01, -1.54576510e-01, -4.51363367e-01,\n",
       "       -5.07346659e-01, -5.19323176e-01, -8.42765147e-01, -8.84666255e-01,\n",
       "       -7.62993522e-01, -4.86574393e-01, -4.42009563e-01, -3.10335585e-01,\n",
       "       -2.84545723e-01, -8.23190033e-01, -6.08635765e-01, -9.27086083e-01,\n",
       "       -4.26870230e-01, -7.44426905e-04, -8.63553415e-01, -5.30443190e-01,\n",
       "       -5.85214064e-01, -5.50939506e-01, -7.56211562e-01, -1.51626370e-01,\n",
       "       -8.14189735e-01, -8.35626259e-01, -7.01945314e-01, -7.44419879e-01,\n",
       "       -8.61492282e-01, -6.34396597e-01, -6.15689896e-01, -7.26802893e-01,\n",
       "       -3.78899124e-02, -9.34999146e-01, -9.75389243e-01, -4.82762185e-01,\n",
       "       -2.75203133e-01, -2.55056999e-01, -7.52201418e-01, -3.51701574e-01,\n",
       "       -2.14288211e-01, -4.02631031e-01, -2.84300096e-01, -1.57369898e-01,\n",
       "       -7.92395777e-01, -7.37589843e-01, -1.26751053e-01, -2.55453861e-01,\n",
       "       -9.53266873e-02, -9.71825833e-01, -9.09520737e-01, -6.74777211e-01,\n",
       "       -9.54238889e-01, -4.80407024e-01, -2.03424925e-01, -2.76179689e-01,\n",
       "       -1.51707011e-01, -7.16577950e-01, -4.50802222e-01, -3.81002271e-01,\n",
       "       -6.71463567e-01, -4.36521880e-01, -6.87612967e-01, -7.93655392e-01,\n",
       "       -1.28227777e-01, -7.56278647e-01, -1.88255755e-02, -8.20056789e-01,\n",
       "       -1.94364682e-01, -4.49912006e-01, -5.36433978e-01, -8.83612917e-01,\n",
       "       -2.01540647e-01, -6.07534926e-01, -3.05565585e-01, -6.38149510e-01,\n",
       "       -8.04957389e-01, -1.07718142e-01, -7.29201243e-02, -2.16840131e-01,\n",
       "       -3.99872314e-01, -2.62763886e-01, -1.17559360e-01, -5.52269200e-01,\n",
       "       -6.34841092e-01, -6.92091208e-01, -8.29583277e-01, -3.16406652e-01,\n",
       "       -5.27187537e-01, -4.39752279e-01, -1.05945502e-01, -2.49423725e-01,\n",
       "       -5.80895483e-01, -5.64542305e-01, -6.25556102e-01, -2.72926898e-01,\n",
       "       -2.21972187e-01, -2.11318122e-01, -5.29662651e-01, -5.00909354e-01,\n",
       "       -6.37527357e-01, -4.89584400e-01, -1.57313512e-01, -4.22109101e-01,\n",
       "       -4.23952701e-01, -7.76991281e-01, -8.05371952e-02, -2.80950309e-01,\n",
       "       -6.11425044e-01, -9.43170810e-01, -3.85898334e-01, -8.40999236e-01,\n",
       "       -4.50026964e-01, -7.90346540e-01, -9.16032441e-01, -8.95582187e-01,\n",
       "       -2.35804327e-01, -2.41404100e-01, -1.59591038e-01, -4.04400301e-01,\n",
       "       -3.66321881e-01, -3.33787524e-02, -6.21315840e-01, -2.87666389e-01,\n",
       "       -6.55002087e-01, -6.03193291e-01, -1.64043152e-02, -9.11323534e-01,\n",
       "       -1.22408213e-02, -6.97780635e-01, -8.43905017e-01, -1.84313819e-01,\n",
       "       -5.84833425e-01, -7.84564901e-01, -7.88978659e-01, -5.47983336e-01,\n",
       "       -8.81982668e-01, -4.25940492e-01, -8.76426237e-01, -1.90405889e-01,\n",
       "       -4.49135891e-01, -3.27057957e-01, -9.46470475e-01, -2.74841410e-01,\n",
       "       -5.85317833e-01, -1.30424282e-01, -3.13533672e-01, -8.96967610e-01,\n",
       "       -1.81850952e-02, -3.71458239e-01, -2.00779334e-01, -4.23741389e-01,\n",
       "       -6.05342426e-01, -3.27208777e-01, -7.39713264e-01, -4.59664770e-01,\n",
       "       -4.72191703e-01, -5.80961296e-01, -7.71188732e-01, -7.88217846e-01,\n",
       "       -3.27543028e-01, -3.71135536e-01, -4.88619704e-01, -6.22343983e-01,\n",
       "       -3.14528673e-01, -1.79348693e-01, -6.37156033e-01, -5.23684290e-01,\n",
       "       -9.30612016e-01, -5.75850767e-01, -7.40183115e-01, -9.09598267e-01,\n",
       "       -3.84473239e-01, -4.41713940e-01, -2.75907701e-01, -7.95726442e-01,\n",
       "       -6.31161522e-01, -3.06447491e-01, -4.86286979e-01, -5.07577474e-01,\n",
       "       -6.19562120e-01, -2.64396996e-01, -1.57391570e-01, -7.46114878e-01])"
      ]
     },
     "execution_count": 17,
     "metadata": {},
     "output_type": "execute_result"
    }
   ],
   "source": [
    "np.random.uniform(-1,0,1000)"
   ]
  },
  {
   "cell_type": "code",
   "execution_count": 20,
   "id": "7d07f5fc-16ee-4398-bb32-06c30a45cc94",
   "metadata": {},
   "outputs": [],
   "source": [
    "x = np.random.normal(0, 0.1, 1000)"
   ]
  },
  {
   "cell_type": "code",
   "execution_count": 21,
   "id": "9c227856-5b93-4200-be2b-e9b805f43dd3",
   "metadata": {},
   "outputs": [
    {
     "data": {
      "text/plain": [
       "(array([ 11.,  22.,  68., 168., 229., 213., 164.,  80.,  34.,  11.]),\n",
       " array([-0.29524698, -0.23690126, -0.17855554, -0.12020981, -0.06186409,\n",
       "        -0.00351837,  0.05482735,  0.11317308,  0.1715188 ,  0.22986452,\n",
       "         0.28821024]),\n",
       " <BarContainer object of 10 artists>)"
      ]
     },
     "execution_count": 21,
     "metadata": {},
     "output_type": "execute_result"
    },
    {
     "data": {
      "image/png": "[encoded data removed]",
      "text/plain": [
       "<Figure size 432x288 with 1 Axes>"
      ]
     },
     "metadata": {
      "needs_background": "light"
     },
     "output_type": "display_data"
    }
   ],
   "source": [
    "plt.hist(x)"
   ]
  },
  {
   "cell_type": "code",
   "execution_count": null,
   "id": "bdc43370-d0f2-4602-a148-a6b7dd95c825",
   "metadata": {},
   "outputs": [],
   "source": []
  },
  {
   "cell_type": "code",
   "execution_count": null,
   "id": "0b31dc81-2ac1-46bc-8201-b9e4d28261b3",
   "metadata": {},
   "outputs": [],
   "source": []
  },
  {
   "cell_type": "markdown",
   "id": "f3ffaa11-f40a-4e5d-b9ae-421ba6f4d6fc",
   "metadata": {},
   "source": [
    "# Referencecs\n",
    "\n",
    "1. https://revisionmaths.com/advanced-level-maths-revision/statistics/uniform-distribution\n",
    "2. https://numpy.org/doc/stable/reference/random/generated/numpy.random.uniform.html\n",
    "3. https://stattrek.com/probability-distributions/probability-distribution.aspx\n",
    "4. https://numpy.org/doc/stable/reference/random/generated/numpy.random.normal.html"
   ]
  }
 ],
 "metadata": {
  "kernelspec": {
   "display_name": "Python 3",
   "language": "python",
   "name": "python3"
  },
  "language_info": {
   "codemirror_mode": {
    "name": "ipython",
    "version": 3
   },
   "file_extension": ".py",
   "mimetype": "text/x-python",
   "name": "python",
   "nbconvert_exporter": "python",
   "pygments_lexer": "ipython3",
   "version": "3.8.8"
  }
 },
 "nbformat": 4,
 "nbformat_minor": 5
}
