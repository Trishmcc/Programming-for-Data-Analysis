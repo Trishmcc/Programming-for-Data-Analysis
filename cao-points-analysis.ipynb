{
 "cells": [
  {
   "cell_type": "markdown",
   "id": "f83ca13a-c2df-477e-a2a7-29e0f096466b",
   "metadata": {},
   "source": [
    "# CAO Points Analysis\n",
    "\n",
    "http://www2.cao.ie/points/l8.php\n",
    "\n",
    "***"
   ]
  },
  {
   "cell_type": "code",
   "execution_count": 1,
   "id": "f6e63d20-a92a-4994-a52e-8b822cc260f3",
   "metadata": {},
   "outputs": [],
   "source": [
    "# Regular expressions\n",
    "import re\n",
    "\n",
    "# Convenient HTTP request.\n",
    "import requests as rq\n",
    "\n",
    "# Dates and Times\n",
    "import datetime as dt"
   ]
  },
  {
   "cell_type": "code",
   "execution_count": 2,
   "id": "edd0eaeb-b7e3-4d43-80db-0be5988284ec",
   "metadata": {},
   "outputs": [
    {
     "data": {
      "text/plain": [
       "<Response [200]>"
      ]
     },
     "execution_count": 2,
     "metadata": {},
     "output_type": "execute_result"
    }
   ],
   "source": [
    "# Fetch the CAO points url\n",
    "resp = rq.get('http://www2.cao.ie/points/l8.php')\n",
    "resp"
   ]
  },
  {
   "cell_type": "markdown",
   "id": "b87403d6-b0c1-4f78-908b-de9c62f51a06",
   "metadata": {},
   "source": [
    "# Save Original Data Set\n",
    "\n",
    "***"
   ]
  },
  {
   "cell_type": "code",
   "execution_count": 3,
   "id": "8e66c378-7449-41af-abda-7b9377f8ec29",
   "metadata": {},
   "outputs": [],
   "source": [
    "# Get the current data and time\n",
    "now = dt.datetime.now()\n",
    "\n",
    "# Format as a string.\n",
    "nowstr = now.strftime('%y%m%d_%H%M%S')"
   ]
  },
  {
   "cell_type": "code",
   "execution_count": 4,
   "id": "fb86e588-2528-4263-9f40-bf497464005f",
   "metadata": {},
   "outputs": [],
   "source": [
    "# Create a file path for the original data\n",
    "path = 'data/cao2021_' + nowstr + '.html'"
   ]
  },
  {
   "cell_type": "markdown",
   "id": "d863cc24-c4f9-41a3-98fd-31a3feffc72c",
   "metadata": {},
   "source": [
    "# Error on Server\n",
    "\n",
    "***"
   ]
  },
  {
   "cell_type": "code",
   "execution_count": 5,
   "id": "edb97618-e8b2-421a-a31a-20cf90603157",
   "metadata": {},
   "outputs": [],
   "source": [
    "# The server uses the wrong encoding, fix it\n",
    "original_encoding = resp.encoding\n",
    "\n",
    "#Change to cp1252\n",
    "resp.encoding = 'cp1252'"
   ]
  },
  {
   "cell_type": "code",
   "execution_count": 6,
   "id": "ebaac904-f92f-477b-9f6a-8c1306f4c748",
   "metadata": {},
   "outputs": [],
   "source": [
    "# Save the orignal html file\n",
    "with open(path, 'w') as f:\n",
    "    f.write(resp.text)"
   ]
  },
  {
   "cell_type": "code",
   "execution_count": 7,
   "id": "7ca8bdcc-3a42-495e-b6d4-d44446799f8c",
   "metadata": {},
   "outputs": [],
   "source": [
    "# Compile the regular expression for matching lines\n",
    "re_course = re.compile(r'([A-Z]{2}[0-9]{3})  (.*)[0-9]{3}(\\*?) *')"
   ]
  },
  {
   "cell_type": "code",
   "execution_count": 10,
   "id": "53825d74-53d2-432c-ac53-257a046b2123",
   "metadata": {},
   "outputs": [
    {
     "name": "stdout",
     "output_type": "stream",
     "text": [
      "Total number of lines is 922.\n"
     ]
    }
   ],
   "source": [
    "# The file path for the csv file\n",
    "path = 'data/cao2021_csv_' + nowstr + '.csv'\n",
    "\n",
    "# Keep track of how many courses we process\n",
    "no_lines = 0\n",
    "# Open the csv file for writing\n",
    "with open(path, 'w') as f:\n",
    "    # Loop through the lines of the response content\n",
    "    for line in resp.iter_lines():\n",
    "        #Decode the line, using the wrong encoding\n",
    "        dline = line.decode('cp1252')\n",
    "     # Match only the lines we want - the ones representing courses.\n",
    "        if re_course.fullmatch(dline):\n",
    "            #Add one to the lines counter\n",
    "            no_lines = no_lines + 1\n",
    "            #split the line on two or more spaces\n",
    "            linesplit = re.split(' +', dline)\n",
    "            #Rejoin the substrings with commas inbetween\n",
    "            f.write(','.join(linesplit) + '\\n')\n",
    "       \n",
    "print(f\"Total number of lines is {no_lines}.\")"
   ]
  }
 ],
 "metadata": {
  "kernelspec": {
   "display_name": "Python 3",
   "language": "python",
   "name": "python3"
  },
  "language_info": {
   "codemirror_mode": {
    "name": "ipython",
    "version": 3
   },
   "file_extension": ".py",
   "mimetype": "text/x-python",
   "name": "python",
   "nbconvert_exporter": "python",
   "pygments_lexer": "ipython3",
   "version": "3.8.8"
  }
 },
 "nbformat": 4,
 "nbformat_minor": 5
}
